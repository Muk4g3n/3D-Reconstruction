{
 "cells": [
  {
   "cell_type": "code",
   "execution_count": 1,
   "id": "0a06b22f",
   "metadata": {},
   "outputs": [],
   "source": [
    "import numpy as np\n",
    "# import pandas as pd\n",
    "# import matplotlib.pyplot as plt \n",
    "import tensorflow as tf\n",
    "config = tf.compat.v1.ConfigProto()\n",
    "config.gpu_options.allow_growth = True\n",
    "sess = tf.compat.v1.Session(config=config)\n",
    "import os\n",
    "import cv2\n",
    "import sys\n",
    "sys.path.append('../')\n",
    "import Utils\n"
   ]
  },
  {
   "cell_type": "code",
   "execution_count": 2,
   "id": "396bb9e6",
   "metadata": {},
   "outputs": [],
   "source": [
    "import pandas as pd\n",
    "import matplotlib.pyplot as plt"
   ]
  },
  {
   "cell_type": "code",
   "execution_count": 3,
   "id": "b61eb4e5",
   "metadata": {},
   "outputs": [],
   "source": [
    "from tensorflow.keras import layers,losses\n",
    "from tensorflow.keras.preprocessing.image import ImageDataGenerator\n",
    "from tensorflow.keras.models import Model"
   ]
  },
  {
   "cell_type": "code",
   "execution_count": null,
   "id": "e7300536",
   "metadata": {},
   "outputs": [],
   "source": [
    "from AutoEncoder import AutoEncoder"
   ]
  },
  {
   "cell_type": "code",
   "execution_count": null,
   "id": "43b78a9b",
   "metadata": {},
   "outputs": [],
   "source": [
    "image_data = Utils.read_data(\"Berea_2d25um_binary.raw\")\n",
    "image_data"
   ]
  },
  {
   "cell_type": "code",
   "execution_count": null,
   "id": "9cdbce7b",
   "metadata": {},
   "outputs": [],
   "source": [
    "split_images = Utils.get_split_images(image_data)"
   ]
  },
  {
   "cell_type": "code",
   "execution_count": null,
   "id": "0c6e1745",
   "metadata": {},
   "outputs": [],
   "source": []
  },
  {
   "cell_type": "code",
   "execution_count": null,
   "id": "de41e70a",
   "metadata": {},
   "outputs": [],
   "source": [
    "class inferenceNetwork(Model):\n",
    "\n",
    "    def __init__(self,inputShape) -> None:\n",
    "        super(inferenceNetwork,self).__init__()\n",
    "        self.lstm_1 = layers.LSTM(64, return_sequences=True, input_shape=inputShape)\n",
    "        self.lstm_2 = layers.LSTM(32)\n",
    "        self.outputDense = layers.Dense(1)\n",
    "        \n",
    "\n",
    "        \n",
    "    def call(self,X):\n",
    "        \n",
    "       \n",
    "        return X"
   ]
  },
  {
   "cell_type": "code",
   "execution_count": null,
   "id": "73660d7d",
   "metadata": {},
   "outputs": [],
   "source": [
    "device = tf.config.list_physical_devices(\"GPU\")\n",
    "print(device)\n",
    "tf.config.experimental.set_memory_growth(device[0],True)"
   ]
  },
  {
   "cell_type": "code",
   "execution_count": null,
   "id": "bfe7372b",
   "metadata": {},
   "outputs": [],
   "source": [
    "final = Utils.add_padding(split_images.shape[0],split_images)"
   ]
  },
  {
   "cell_type": "code",
   "execution_count": null,
   "id": "0858e7d7",
   "metadata": {},
   "outputs": [],
   "source": [
    "del split_images\n",
    "del image_data\n"
   ]
  },
  {
   "cell_type": "code",
   "execution_count": null,
   "id": "43761d46",
   "metadata": {},
   "outputs": [],
   "source": [
    "X_train = final[:15000]\n",
    "#X_test = final[15000:15500]\n",
    "X_val = final[15000:16000]\n",
    "print(X_train.shape)\n",
    "print(X_val.shape)\n",
    "del final"
   ]
  },
  {
   "cell_type": "code",
   "execution_count": 4,
   "id": "2c708ae7",
   "metadata": {},
   "outputs": [
    {
     "name": "stdout",
     "output_type": "stream",
     "text": [
      "[ -6.23989 , 5.4954643 ]\n"
     ]
    }
   ],
   "source": [
    "Y_train = np.load('../X_train_features.npy')\n",
    "Y_val = np.load('../X_val_features.npy')\n",
    "Y_test = np.load('../X_test_features.npy')"
   ]
  },
  {
   "cell_type": "code",
   "execution_count": 5,
   "id": "f41d0992",
   "metadata": {},
   "outputs": [
    {
     "name": "stdout",
     "output_type": "stream",
     "text": [
      "-2.6359994 2.565646\n",
      "-2.8575764 3.4866247\n"
     ]
    }
   ],
   "source": [
    "print(np.min(Y_train[0]),np.max(Y_train[0]))\n",
    "print(np.min(Y_train[1]),np.max(Y_train[1]))"
   ]
  },
  {
   "cell_type": "code",
   "execution_count": null,
   "id": "93b4faef",
   "metadata": {},
   "outputs": [],
   "source": [
    "os.environ['TF_FORCE_GPU_ALLOW_GROWTH'] = 'true'"
   ]
  },
  {
   "cell_type": "code",
   "execution_count": null,
   "id": "e2900c3d",
   "metadata": {},
   "outputs": [],
   "source": [
    "tf.keras.backend.clear_session()"
   ]
  },
  {
   "cell_type": "code",
   "execution_count": null,
   "id": "4a4aac80",
   "metadata": {},
   "outputs": [],
   "source": [
    "# history = autoEncoder.fit(X_train,X_train,\n",
    "#                 epochs=10,\n",
    "#                 batch_size=16,\n",
    "#                 shuffle=True, \n",
    "#                 validation_data=(X_val,X_val)\n",
    "#                 )"
   ]
  },
  {
   "cell_type": "code",
   "execution_count": null,
   "id": "f7332f1f",
   "metadata": {},
   "outputs": [],
   "source": [
    "loss = history.history['loss']\n",
    "val_loss = history.history['val_loss']\n",
    "\n",
    "epochs = range(10)\n",
    "\n",
    "plt.figure()\n",
    "plt.plot(epochs, loss, 'r', label='Training loss')\n",
    "plt.plot(epochs, val_loss, 'bo', label='Validation loss')\n",
    "plt.title('Training and Validation Loss')\n",
    "plt.xlabel('Epoch')\n",
    "plt.ylabel('Loss Value')\n",
    "#plt.ylim([0, 1])\n",
    "plt.legend()\n",
    "plt.show()"
   ]
  },
  {
   "cell_type": "code",
   "execution_count": null,
   "id": "65b6a138",
   "metadata": {},
   "outputs": [],
   "source": [
    "autoEncoder.summary()"
   ]
  },
  {
   "cell_type": "code",
   "execution_count": null,
   "id": "9b94d982",
   "metadata": {},
   "outputs": [],
   "source": [
    "image_data = Utils.read_data(\"BanderaBrown_2d25um_binary.raw\")"
   ]
  },
  {
   "cell_type": "code",
   "execution_count": null,
   "id": "495f0a62",
   "metadata": {},
   "outputs": [],
   "source": [
    "test_images = Utils.get_split_images(image_data)\n",
    "\n",
    "test_images.shape"
   ]
  },
  {
   "cell_type": "code",
   "execution_count": null,
   "id": "c5d2a9cd",
   "metadata": {},
   "outputs": [],
   "source": [
    "final_test = Utils.add_padding(10,test_images)\n",
    "final_test.shape"
   ]
  },
  {
   "cell_type": "code",
   "execution_count": null,
   "id": "4fb8072f",
   "metadata": {},
   "outputs": [],
   "source": []
  }
 ],
 "metadata": {
  "kernelspec": {
   "display_name": "Python 3 (ipykernel)",
   "language": "python",
   "name": "python3"
  },
  "language_info": {
   "codemirror_mode": {
    "name": "ipython",
    "version": 3
   },
   "file_extension": ".py",
   "mimetype": "text/x-python",
   "name": "python",
   "nbconvert_exporter": "python",
   "pygments_lexer": "ipython3",
   "version": "3.9.16"
  }
 },
 "nbformat": 4,
 "nbformat_minor": 5
}
