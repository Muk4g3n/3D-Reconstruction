{
 "cells": [
  {
   "attachments": {},
   "cell_type": "markdown",
   "id": "ac35d750",
   "metadata": {},
   "source": [
    "# Modified 3D PMRNN"
   ]
  },
  {
   "attachments": {},
   "cell_type": "markdown",
   "id": "754a7290",
   "metadata": {},
   "source": [
    "## Module Imports"
   ]
  },
  {
   "cell_type": "code",
   "execution_count": 1,
   "id": "72812cef",
   "metadata": {},
   "outputs": [],
   "source": [
    "import os\n",
    "os.environ['TF_CPP_MIN_LOG_LEVEL'] = '1'\n",
    "import tensorflow as tf\n",
    "tf.compat.v1.disable_eager_execution()\n",
    "config = tf.compat.v1.ConfigProto()\n",
    "config.gpu_options.allow_growth = True\n",
    "sess = tf.compat.v1.Session(config=config)\n",
    "import cv2\n",
    "import numpy as np\n",
    "import matplotlib.pyplot as plt\n",
    "from CONFIGURATION import CONFIGURATION\n",
    "from Reconstruction import Reconstruction"
   ]
  },
  {
   "cell_type": "code",
   "execution_count": 2,
   "id": "b18052c8",
   "metadata": {},
   "outputs": [
    {
     "name": "stdout",
     "output_type": "stream",
     "text": [
      "TensorFlow version: 2.7.0\n",
      "cv2 version: 4.5.5\n",
      "np version: 1.19.5\n"
     ]
    }
   ],
   "source": [
    "# ignorable\n",
    "print(\"TensorFlow version:\", tf.__version__)\n",
    "print(\"cv2 version:\",cv2.__version__)\n",
    "print(\"np version:\",np.__version__)"
   ]
  },
  {
   "cell_type": "code",
   "execution_count": 3,
   "id": "123ce716",
   "metadata": {},
   "outputs": [
    {
     "name": "stdout",
     "output_type": "stream",
     "text": [
      "matplotlib version: 3.6.3\n",
      "sklearn version: 1.2.2\n"
     ]
    }
   ],
   "source": [
    "# ignorable\n",
    "import sklearn, matplotlib\n",
    "print(\"matplotlib version:\",matplotlib.__version__)\n",
    "print(\"sklearn version:\",sklearn.__version__)"
   ]
  },
  {
   "cell_type": "code",
   "execution_count": 4,
   "id": "63a03177",
   "metadata": {},
   "outputs": [],
   "source": [
    "from tensorflow.keras import layers,losses #,Sequential,metrics\n",
    "from tensorflow.keras.models import Model\n",
    "from tensorflow.keras.optimizers import * \n",
    "# from tensorflow.keras.layers import Layer\n",
    "# from tensorflow.keras import optimizers \n",
    "# from tensorflow.keras.optimizers.experimental import SGD\n",
    "# from tensorflow.image import ssim"
   ]
  },
  {
   "attachments": {},
   "cell_type": "markdown",
   "id": "8c8c790c",
   "metadata": {},
   "source": [
    "## Load new Data"
   ]
  },
  {
   "attachments": {},
   "cell_type": "markdown",
   "id": "19893387",
   "metadata": {},
   "source": [
    "### reading data"
   ]
  },
  {
   "cell_type": "code",
   "execution_count": null,
   "id": "e52f3713",
   "metadata": {},
   "outputs": [],
   "source": [
    "import Utils\n",
    "image_data = Utils.read_data(\"Berea_2d25um_binary.raw\")\n",
    "image_data.shape"
   ]
  },
  {
   "attachments": {},
   "cell_type": "markdown",
   "id": "eec28ea2",
   "metadata": {},
   "source": [
    "### Voxel extraction "
   ]
  },
  {
   "cell_type": "code",
   "execution_count": null,
   "id": "40f1e78b",
   "metadata": {},
   "outputs": [],
   "source": [
    "voxels = Utils.extract_subvolumes(image_data)\n",
    "voxels.shape"
   ]
  },
  {
   "cell_type": "code",
   "execution_count": null,
   "id": "e0405903",
   "metadata": {},
   "outputs": [],
   "source": [
    "del image_data"
   ]
  },
  {
   "attachments": {},
   "cell_type": "markdown",
   "id": "bf36c49a",
   "metadata": {},
   "source": [
    "### Train and test data extraction"
   ]
  },
  {
   "cell_type": "code",
   "execution_count": null,
   "id": "fec518e2",
   "metadata": {},
   "outputs": [],
   "source": [
    "X_train = voxels[:-6]\n",
    "X_test = voxels[-6:]"
   ]
  },
  {
   "cell_type": "code",
   "execution_count": null,
   "id": "37b159f1",
   "metadata": {},
   "outputs": [],
   "source": [
    "del voxels"
   ]
  },
  {
   "cell_type": "code",
   "execution_count": null,
   "id": "bdef105b",
   "metadata": {},
   "outputs": [],
   "source": [
    "len(X_train)"
   ]
  },
  {
   "attachments": {},
   "cell_type": "markdown",
   "id": "bca36b08",
   "metadata": {},
   "source": [
    "### Save Traited data for uses"
   ]
  },
  {
   "cell_type": "code",
   "execution_count": null,
   "id": "784fbc0c",
   "metadata": {},
   "outputs": [],
   "source": [
    "with open('X_train.npy', 'wb') as f:\n",
    "    np.save(f, X_train)"
   ]
  },
  {
   "cell_type": "code",
   "execution_count": null,
   "id": "89f33ad5",
   "metadata": {},
   "outputs": [],
   "source": [
    "with open('X_test.npy', 'wb') as f:\n",
    "    np.save(f, X_test)"
   ]
  },
  {
   "attachments": {},
   "cell_type": "markdown",
   "id": "39b13c5c",
   "metadata": {},
   "source": [
    "## TensorFlow GPU setup"
   ]
  },
  {
   "cell_type": "code",
   "execution_count": 5,
   "id": "638ae073",
   "metadata": {},
   "outputs": [
    {
     "name": "stdout",
     "output_type": "stream",
     "text": [
      "[PhysicalDevice(name='/physical_device:GPU:0', device_type='GPU')]\n",
      "True\n",
      "(7, 2, 2)\n"
     ]
    }
   ],
   "source": [
    "from tensorflow.python.compiler.tensorrt import trt_convert as trt\n",
    "device = tf.config.list_physical_devices(\"GPU\")\n",
    "print(device)  # Check if GPU devices are visible\n",
    "print(tf.test.is_built_with_cuda())  # Check if TensorFlow is built with CUDA support\n",
    "print(trt.trt_utils._pywrap_py_utils.get_linked_tensorrt_version())"
   ]
  },
  {
   "cell_type": "code",
   "execution_count": 6,
   "id": "e4da3df1",
   "metadata": {},
   "outputs": [],
   "source": [
    "# only on weak GPU\n",
    "tf.config.experimental.set_memory_growth(device[0],True)\n",
    "os.environ['TF_FORCE_GPU_ALLOW_GROWTH'] = 'true'"
   ]
  },
  {
   "cell_type": "code",
   "execution_count": 7,
   "id": "59464a9e",
   "metadata": {},
   "outputs": [],
   "source": [
    "tf.keras.backend.clear_session()"
   ]
  },
  {
   "attachments": {},
   "cell_type": "markdown",
   "id": "73330f25",
   "metadata": {},
   "source": [
    "## Load Traited data for training (voxels)"
   ]
  },
  {
   "cell_type": "code",
   "execution_count": null,
   "id": "94e02c22",
   "metadata": {},
   "outputs": [],
   "source": [
    "X_train=np.load('X_train.npy')\n",
    "X_train.shape"
   ]
  },
  {
   "cell_type": "code",
   "execution_count": null,
   "id": "bb55b88e",
   "metadata": {},
   "outputs": [],
   "source": [
    "# for test only\n",
    "X_train=X_train[:1]\n",
    "with open('X_train_test.npy', 'wb') as f:\n",
    "    np.save(f, X_train)\n",
    "X_train.shape"
   ]
  },
  {
   "cell_type": "code",
   "execution_count": 8,
   "id": "4761bcf2",
   "metadata": {},
   "outputs": [
    {
     "data": {
      "text/plain": [
       "(1, 250, 256, 256, 1)"
      ]
     },
     "execution_count": 8,
     "metadata": {},
     "output_type": "execute_result"
    }
   ],
   "source": [
    "X_train=np.load('X_train_test.npy')\n",
    "X_train.shape"
   ]
  },
  {
   "attachments": {},
   "cell_type": "markdown",
   "id": "2e6e9e81",
   "metadata": {},
   "source": [
    "### idk"
   ]
  },
  {
   "cell_type": "code",
   "execution_count": 9,
   "id": "37376c08",
   "metadata": {},
   "outputs": [],
   "source": [
    "learnedVoxels = []\n",
    "inferenceVoxels = []\n",
    "for voxel in X_train:\n",
    "    learnedVoxels.append(voxel[:-1])\n",
    "    inferenceVoxels.append(voxel[1:])\n",
    "\n",
    "# learnedVoxels = np.array(learnedVoxels)\n",
    "# inferenceVoxels = np.array(inferenceVoxels)"
   ]
  },
  {
   "attachments": {},
   "cell_type": "markdown",
   "id": "aef04e4a",
   "metadata": {},
   "source": [
    "## Training "
   ]
  },
  {
   "attachments": {},
   "cell_type": "markdown",
   "id": "e03f539a",
   "metadata": {},
   "source": [
    "### Imports"
   ]
  },
  {
   "cell_type": "code",
   "execution_count": 10,
   "id": "41a01c68",
   "metadata": {},
   "outputs": [],
   "source": [
    "from mealpy.swarm_based import GWO\n",
    "from sklearn.preprocessing import LabelEncoder\n",
    "import time\n",
    "import pickle\n",
    "from datetime import datetime"
   ]
  },
  {
   "cell_type": "code",
   "execution_count": 11,
   "id": "97301047",
   "metadata": {},
   "outputs": [
    {
     "data": {
      "text/plain": [
       "'2.4.2'"
      ]
     },
     "execution_count": 11,
     "metadata": {},
     "output_type": "execute_result"
    }
   ],
   "source": [
    "import mealpy\n",
    "mealpy.__version__"
   ]
  },
  {
   "attachments": {},
   "cell_type": "markdown",
   "id": "a3d89d7a",
   "metadata": {},
   "source": [
    "### Lables"
   ]
  },
  {
   "cell_type": "code",
   "execution_count": 12,
   "id": "ef20fe94",
   "metadata": {},
   "outputs": [],
   "source": [
    "class Timer():\n",
    "    def __init__(self,title=\" \",p={}) -> None:\n",
    "        self.title=title\n",
    "        self.started=time.time()\n",
    "        self.params=p\n",
    "        print(f\"{self.title} Started at : {datetime.fromtimestamp(self.started)}\")\n",
    "        self.ended=None\n",
    "    def End(self):\n",
    "        self.ended=time.time()\n",
    "        print(f\"{self.title} Ended at : {datetime.fromtimestamp(self.ended)} and it took {self.ended-self.started}s\")\n",
    "    def setParams(self,name,data):\n",
    "        self.params[name]=data\n",
    "\n",
    "    def toDuration(self):\n",
    "        if self.ended == None:\n",
    "            return -1\n",
    "        return self.ended-self.started\n",
    "    \n",
    "    def __str__(self) -> str:\n",
    "        return f\"{self.title} Started at : {datetime.fromtimestamp(self.started)} | Ended at : {datetime.fromtimestamp(self.ended)} and it took {self.ended-self.started}s\"\n",
    "\n",
    "class TrainingData(Timer):\n",
    "    def __init__(self,title=\" \",p={}) -> None:\n",
    "        super().__init__(title=title,p=p)\n",
    "        self.samples=[]\n",
    "    \n",
    "    def SampleStarted(self,title=\" \")->Timer:\n",
    "        timer= Timer(title)\n",
    "        self.samples.append(timer)\n",
    "        return timer\n",
    "    \n",
    "    def __str__(self) -> str:\n",
    "        return super().__str__()+\" \"+str(self.params)"
   ]
  },
  {
   "cell_type": "code",
   "execution_count": 13,
   "id": "021d314f",
   "metadata": {},
   "outputs": [],
   "source": [
    "OPT_ENCODER = LabelEncoder()\n",
    "#OPT_ENCODER.fit(['SGD', 'RMSprop', 'Adagrad', 'Adadelta', 'Adam', 'Adamax', 'Nadam'])\n",
    "OPT_ENCODER.fit(['SGD', 'RMSprop', 'Adagrad', 'Adam'])\n",
    "trainings_duration=[]\n",
    "trainings_epochs=[]\n",
    "current_iteration = 0\n"
   ]
  },
  {
   "attachments": {},
   "cell_type": "markdown",
   "id": "8022ecf1",
   "metadata": {},
   "source": [
    "### Solution Decodation function"
   ]
  },
  {
   "cell_type": "code",
   "execution_count": 14,
   "id": "a85c40a5",
   "metadata": {},
   "outputs": [],
   "source": [
    "def decode_solution(solution):\n",
    "    batch_size = 2**int(solution[0])\n",
    "    \n",
    "    learning_rate = solution[1]\n",
    "    \n",
    "    opt_int = int(solution[2])\n",
    "    opt = OPT_ENCODER.inverse_transform([opt_int])[0]\n",
    "    \n",
    "    epoch = 10 *int(solution[3])\n",
    "    \n",
    "    num_filters = int(solution[4])\n",
    "    \n",
    "    latent_space_dim = 2**int(solution[5])\n",
    "    \n",
    "    reduced_dim = 2**int(solution[6])\n",
    "    \n",
    "    return [batch_size,learning_rate,opt,epoch,num_filters,latent_space_dim,reduced_dim]"
   ]
  },
  {
   "attachments": {},
   "cell_type": "markdown",
   "id": "db1236ed",
   "metadata": {},
   "source": [
    "### Objective Function"
   ]
  },
  {
   "cell_type": "code",
   "execution_count": 15,
   "id": "ad5dbb71",
   "metadata": {},
   "outputs": [],
   "source": [
    "\"\"\" import random\n",
    "# the range of float values\n",
    "start = 0.001\n",
    "end = 0.8 \"\"\"\n",
    "current_training=0\n",
    "\n",
    "def objective_function(solution):\n",
    "    tf.keras.backend.clear_session()\n",
    "    global current_training\n",
    "    print(\"\\n###########################################################\\n\")\n",
    "    print(f\"\\n--------------------------{current_iteration}/{current_training}--------------------------------\\n\")\n",
    "    print(\"\\n###########################################################\\n\")\n",
    "    batch_size, learning_rate, opt, epoch, num_filters, latent_space_dim, reduced_dim = decode_solution(solution)\n",
    "    reconstruction = Reconstruction(inputShape=CONFIGURATION[\"INPUT_SHAPE\"],\n",
    "                                    latent_space_dim=latent_space_dim,\n",
    "                                    reducedDimension=reduced_dim,\n",
    "                                    num_conv_layers=num_filters,\n",
    "                                    learning_rate=learning_rate,\n",
    "                                    batch_size=batch_size,\n",
    "                                    epochs=epoch,\n",
    "                                    opt=opt,\n",
    "                                    )\n",
    "    reconstruction.summary()\n",
    "    reconstruction.compile()\n",
    "    histories = []\n",
    "    params = {\n",
    "        \"inputShape\": CONFIGURATION[\"INPUT_SHAPE\"],\n",
    "        \"latent_space_dim\": latent_space_dim,\n",
    "        \"reducedDimension\": reduced_dim,\n",
    "        \"num_conv_layers\": num_filters,\n",
    "        \"learning_rate\": learning_rate,\n",
    "        \"batch_size\": batch_size,\n",
    "        \"epochs\": epoch,\n",
    "        \"opt\": opt,\n",
    "    }\n",
    "    trainingTime = TrainingData(\"Epoch Training\", params)\n",
    "    for i in range(len(learnedVoxels)):\n",
    "        print(f\"currently working one voxel : {i +1}, voxels left : {len(learnedVoxels)-(i+1)} \")\n",
    "        sampleTime = trainingTime.SampleStarted(f\"Voxel Training {i+1}\")\n",
    "        # histories.append(random.uniform(start, end))\n",
    "        histories.append(reconstruction.train(learnedVoxels[i], inferenceVoxels[i]))\n",
    "        sampleTime.End()\n",
    "\n",
    "    trainingTime.End()\n",
    "    trainings_duration.append(trainingTime)\n",
    "\n",
    "    current_epoch+=1\n",
    "    \n",
    "    \"\"\" reconstruction.save( save_folder=f\"results/model_{batch_size}_{learning_rate}_{opt}_{epoch}_{num_filters}_{latent_space_dim}_{reduced_dim}\") \"\"\"\n",
    "    #return min(histories, key=lambda x: float('inf') if x is None else x)\n",
    "    return histories[-1].history['loss'][-1]"
   ]
  },
  {
   "attachments": {},
   "cell_type": "markdown",
   "id": "1b7d9a16",
   "metadata": {},
   "source": [
    "### Configurations"
   ]
  },
  {
   "cell_type": "code",
   "execution_count": 16,
   "id": "90bdecbb",
   "metadata": {},
   "outputs": [],
   "source": [
    "LB = [3    , 0.001 , 0   , 2      ,  4  ,  6    , 7 ]\n",
    "UB = [5.99 , 0.01  , 3.99, 4.99  ,  8.99,  8.99 , 9.99 ]\n",
    "\n",
    "problem_dict = {\n",
    "    \"fit_func\": objective_function,\n",
    "    \"lb\": LB,\n",
    "    \"ub\": UB,\n",
    "    \"minmax\": \"min\",\n",
    "    \"verbose\":True,\n",
    "}\n",
    "metaheuristic_configuration={\n",
    "    \"epoch\":5,\n",
    "    \"pop_size\":10\n",
    "}\n",
    "#save session for x epoch of the training\n",
    "save_interval=1\n",
    "session_file = 'gwo_session.pkl'\n"
   ]
  },
  {
   "attachments": {},
   "cell_type": "markdown",
   "id": "71d2e782",
   "metadata": {},
   "source": [
    "### Lunching the metaheuristic"
   ]
  },
  {
   "cell_type": "code",
   "execution_count": 29,
   "id": "179957c7",
   "metadata": {},
   "outputs": [
    {
     "name": "stdout",
     "output_type": "stream",
     "text": [
      "{'fit': 0.01349127304975886, 'position': array([3.92447043e+00, 4.53517989e-03, 2.24030586e+00, 4.35225047e+00,\n",
      "       8.53341056e+00, 6.79257622e+00, 7.66029412e+00])}\n",
      "Resuming from iteration 1\n"
     ]
    }
   ],
   "source": [
    "# Check if a session file exists\n",
    "if os.path.exists(session_file):\n",
    "    # Load the session and resume from the saved state\n",
    "    with open(session_file, 'rb') as f:\n",
    "        session_data = pickle.load(f)\n",
    "    model = session_data['model']\n",
    "    best_solution = session_data['best_solution']\n",
    "    current_iteration = session_data['current_iteration']\n",
    "    print(best_solution)\n",
    "    print(\"Resuming from iteration\", current_iteration)\n",
    "    # raise ValueError(\"i just wanted to stop\")\n",
    "else:\n",
    "    # Create a new GWO optimization session\n",
    "    model = GWO.BaseGWO(problem_dict, epoch=metaheuristic_configuration[\"epoch\"], pop_size=metaheuristic_configuration[\"pop_size\"])\n",
    "    best_solution = None\n",
    "    current_iteration = 0\n",
    "    trainings_epochs.append({\"epoch\" :current_iteration,\"trainings\" :trainings_duration,\"best_solution\":best_solution})\n",
    "    trainings_duration=[]"
   ]
  },
  {
   "cell_type": "code",
   "execution_count": 28,
   "id": "db47373d",
   "metadata": {},
   "outputs": [
    {
     "name": "stdout",
     "output_type": "stream",
     "text": [
      "{'fit': 0.01349127304975886, 'position': array([3.92447043e+00, 4.53517989e-03, 2.24030586e+00, 4.35225047e+00,\n",
      "       8.53341056e+00, 6.79257622e+00, 7.66029412e+00])}\n",
      "Resuming from iteration 1\n"
     ]
    },
    {
     "ename": "ValueError",
     "evalue": "i juse wanted to stop",
     "output_type": "error",
     "traceback": [
      "\u001b[0;31m---------------------------------------------------------------------------\u001b[0m",
      "\u001b[0;31mValueError\u001b[0m                                Traceback (most recent call last)",
      "Cell \u001b[0;32mIn[28], line 11\u001b[0m\n\u001b[1;32m      9\u001b[0m     \u001b[39mprint\u001b[39m(best_solution)\n\u001b[1;32m     10\u001b[0m     \u001b[39mprint\u001b[39m(\u001b[39m\"\u001b[39m\u001b[39mResuming from iteration\u001b[39m\u001b[39m\"\u001b[39m, current_iteration)\n\u001b[0;32m---> 11\u001b[0m     \u001b[39mraise\u001b[39;00m \u001b[39mValueError\u001b[39;00m(\u001b[39m\"\u001b[39m\u001b[39mi juse wanted to stop\u001b[39m\u001b[39m\"\u001b[39m)\n\u001b[1;32m     12\u001b[0m \u001b[39melse\u001b[39;00m:\n\u001b[1;32m     13\u001b[0m     \u001b[39m# Create a new GWO optimization session\u001b[39;00m\n\u001b[1;32m     14\u001b[0m     model \u001b[39m=\u001b[39m GWO\u001b[39m.\u001b[39mBaseGWO(problem_dict, epoch\u001b[39m=\u001b[39mmetaheuristic_configuration[\u001b[39m\"\u001b[39m\u001b[39mepoch\u001b[39m\u001b[39m\"\u001b[39m], pop_size\u001b[39m=\u001b[39mmetaheuristic_configuration[\u001b[39m\"\u001b[39m\u001b[39mpop_size\u001b[39m\u001b[39m\"\u001b[39m])\n",
      "\u001b[0;31mValueError\u001b[0m: i juse wanted to stop"
     ]
    }
   ],
   "source": [
    "# Run the optimization loop\n",
    "#while current_iteration < metaheuristic_configuration[\"epoch\"]:\n",
    "    # Perform GWO iteration\n",
    "best_position, best_fitness = model.solve()\n",
    "\n",
    "# Update the best solution\n",
    "if best_solution is None or best_fitness < best_solution[\"fit\"]:\n",
    "    best_solution = {\n",
    "        \"fit\": best_fitness,\n",
    "        \"position\": best_position\n",
    "    }\n",
    "\n",
    "current_iteration += 1\n",
    "trainings_epochs.append({\"epoch\" :current_iteration,\"trainings\" :trainings_duration,\"best_solution\":best_solution})\n",
    "trainings_duration=[]\n",
    "\n",
    "# Increment the iteration count\n",
    "# Save the session periodically\n",
    "with open(session_file, 'wb') as f:\n",
    "    pickle.dump({\n",
    "        \"model\": model,\n",
    "        \"best_solution\": best_solution,\n",
    "        \"current_iteration\": current_iteration\n",
    "    }, f)"
   ]
  },
  {
   "cell_type": "code",
   "execution_count": 20,
   "id": "5fbabbe8",
   "metadata": {},
   "outputs": [
    {
     "name": "stdout",
     "output_type": "stream",
     "text": [
      "Best solution : 0.01349127304975886\n",
      "Batch size : 8, learning_rate : 0.0045351798887080024, opt : RMSprop, epoch : 40, num_filters : 8, latent_space_dim : 64, reduced_dim : 128\n"
     ]
    }
   ],
   "source": [
    "# print(\"\\n\".join( [str(training) for epoch in trainings_epochs for training in epoch]))\n",
    "print(f\"Best solution : {best_solution['fit']}\")\n",
    "batch_size,learning_rate,opt,epoch,num_filters,latent_space_dim ,reduced_dim = decode_solution(best_solution[\"position\"])\n",
    "print(f\"Batch size : {batch_size}, learning_rate : {learning_rate}, opt : {opt}, epoch : {epoch}, num_filters : {num_filters}, latent_space_dim : {latent_space_dim}, reduced_dim : {reduced_dim}\")"
   ]
  },
  {
   "attachments": {},
   "cell_type": "markdown",
   "id": "7443b3f2",
   "metadata": {},
   "source": [
    "### Save History"
   ]
  },
  {
   "cell_type": "code",
   "execution_count": 30,
   "id": "336162c5",
   "metadata": {},
   "outputs": [],
   "source": [
    "model.history.save_global_objectives_chart(filename=\"hello/goc\")\n",
    "model.history.save_local_objectives_chart(filename=\"hello/loc\")\n",
    "\n",
    "model.history.save_global_best_fitness_chart(filename=\"hello/gbfc\")\n",
    "model.history.save_local_best_fitness_chart(filename=\"hello/lbfc\")\n",
    "\n",
    "model.history.save_runtime_chart(filename=\"hello/rtc\")\n",
    "\n",
    "model.history.save_exploration_exploitation_chart(filename=\"hello/eec\")\n",
    "\n",
    "model.history.save_diversity_chart(filename=\"hello/dc\")\n",
    "\n",
    "model.history.save_trajectory_chart(list_agent_idx=[3, 5], selected_dimensions=[3], filename=\"hello/tc\")"
   ]
  },
  {
   "attachments": {},
   "cell_type": "markdown",
   "id": "c1f2f772",
   "metadata": {},
   "source": [
    "### Remove old sessions"
   ]
  },
  {
   "cell_type": "code",
   "execution_count": 17,
   "id": "4161c961",
   "metadata": {},
   "outputs": [],
   "source": [
    "if os.path.exists(session_file):\n",
    "    os.remove(session_file)"
   ]
  },
  {
   "cell_type": "code",
   "execution_count": 22,
   "id": "86201ba2",
   "metadata": {},
   "outputs": [
    {
     "name": "stdout",
     "output_type": "stream",
     "text": [
      "1\n",
      "60\n"
     ]
    }
   ],
   "source": [
    "for training in trainings_epochs:\n",
    "    print(len(training[\"trainings\"]))"
   ]
  },
  {
   "cell_type": "code",
   "execution_count": 27,
   "id": "ee199e89",
   "metadata": {},
   "outputs": [
    {
     "name": "stdout",
     "output_type": "stream",
     "text": [
      "[[{'title': 'Epoch Training', 'started': 1687138561.9510815, 'params': {'inputShape': (256, 256, 1), 'latent_space_dim': 256, 'reducedDimension': 256, 'num_conv_layers': 8, 'learning_rate': 0.006722671227775502, 'batch_size': 8, 'epochs': 40, 'opt': 'Adagrad'}, 'ended': 1687138866.0666847, 'samples': [{'title': 'Voxel Training 1', 'started': 1687138561.9511778, 'params': {}, 'ended': 1687138866.0666087}]}], [{'title': 'Epoch Training', 'started': 1687138871.1945493, 'params': {'inputShape': (256, 256, 1), 'latent_space_dim': 64, 'reducedDimension': 128, 'num_conv_layers': 7, 'learning_rate': 0.009701694142588788, 'batch_size': 16, 'epochs': 40, 'opt': 'RMSprop'}, 'ended': 1687139046.053653, 'samples': [{'title': 'Voxel Training 1', 'started': 1687138871.1946058, 'params': {}, 'ended': 1687139046.0535686}]}, {'title': 'Epoch Training', 'started': 1687139051.158037, 'params': {'inputShape': (256, 256, 1), 'latent_space_dim': 64, 'reducedDimension': 256, 'num_conv_layers': 6, 'learning_rate': 0.004136457183399701, 'batch_size': 32, 'epochs': 30, 'opt': 'RMSprop'}, 'ended': 1687139131.840491, 'samples': [{'title': 'Voxel Training 1', 'started': 1687139051.1580818, 'params': {}, 'ended': 1687139131.840376}]}, {'title': 'Epoch Training', 'started': 1687139136.9541533, 'params': {'inputShape': (256, 256, 1), 'latent_space_dim': 64, 'reducedDimension': 128, 'num_conv_layers': 6, 'learning_rate': 0.0013151863971638232, 'batch_size': 8, 'epochs': 20, 'opt': 'Adagrad'}, 'ended': 1687139257.8333921, 'samples': [{'title': 'Voxel Training 1', 'started': 1687139136.9542098, 'params': {}, 'ended': 1687139257.833299}]}, {'title': 'Epoch Training', 'started': 1687139262.907059, 'params': {'inputShape': (256, 256, 1), 'latent_space_dim': 128, 'reducedDimension': 512, 'num_conv_layers': 8, 'learning_rate': 0.005555838142098603, 'batch_size': 16, 'epochs': 20, 'opt': 'RMSprop'}, 'ended': 1687139384.4078648, 'samples': [{'title': 'Voxel Training 1', 'started': 1687139262.9071076, 'params': {}, 'ended': 1687139384.4077892}]}, {'title': 'Epoch Training', 'started': 1687139389.4834726, 'params': {'inputShape': (256, 256, 1), 'latent_space_dim': 128, 'reducedDimension': 512, 'num_conv_layers': 7, 'learning_rate': 0.005582096480870919, 'batch_size': 32, 'epochs': 20, 'opt': 'Adagrad'}, 'ended': 1687139446.4896553, 'samples': [{'title': 'Voxel Training 1', 'started': 1687139389.4835284, 'params': {}, 'ended': 1687139446.4885287}]}, {'title': 'Epoch Training', 'started': 1687139450.442086, 'params': {'inputShape': (256, 256, 1), 'latent_space_dim': 128, 'reducedDimension': 256, 'num_conv_layers': 4, 'learning_rate': 0.00920416530281808, 'batch_size': 16, 'epochs': 40, 'opt': 'SGD'}, 'ended': 1687139549.8372355, 'samples': [{'title': 'Voxel Training 1', 'started': 1687139450.4421492, 'params': {}, 'ended': 1687139549.8371513}]}, {'title': 'Epoch Training', 'started': 1687139555.0549412, 'params': {'inputShape': (256, 256, 1), 'latent_space_dim': 256, 'reducedDimension': 512, 'num_conv_layers': 8, 'learning_rate': 0.004391674531248207, 'batch_size': 8, 'epochs': 40, 'opt': 'Adagrad'}, 'ended': 1687139898.2984982, 'samples': [{'title': 'Voxel Training 1', 'started': 1687139555.0549881, 'params': {}, 'ended': 1687139898.2984235}]}, {'title': 'Epoch Training', 'started': 1687139902.3976943, 'params': {'inputShape': (256, 256, 1), 'latent_space_dim': 128, 'reducedDimension': 512, 'num_conv_layers': 5, 'learning_rate': 0.00958901931471762, 'batch_size': 32, 'epochs': 30, 'opt': 'RMSprop'}, 'ended': 1687139973.326659, 'samples': [{'title': 'Voxel Training 1', 'started': 1687139902.3977404, 'params': {}, 'ended': 1687139973.3265848}]}, {'title': 'Epoch Training', 'started': 1687139978.426918, 'params': {'inputShape': (256, 256, 1), 'latent_space_dim': 128, 'reducedDimension': 256, 'num_conv_layers': 8, 'learning_rate': 0.003950567443635438, 'batch_size': 8, 'epochs': 30, 'opt': 'RMSprop'}, 'ended': 1687140290.887034, 'samples': [{'title': 'Voxel Training 1', 'started': 1687139978.4269729, 'params': {}, 'ended': 1687140290.8869658}]}, {'title': 'Epoch Training', 'started': 1687140294.1292598, 'params': {'inputShape': (256, 256, 1), 'latent_space_dim': 64, 'reducedDimension': 128, 'num_conv_layers': 4, 'learning_rate': 0.005610860256994519, 'batch_size': 8, 'epochs': 20, 'opt': 'RMSprop'}, 'ended': 1687140407.265912, 'samples': [{'title': 'Voxel Training 1', 'started': 1687140294.129303, 'params': {}, 'ended': 1687140407.2658358}]}, {'title': 'Epoch Training', 'started': 1687140413.1488883, 'params': {'inputShape': (256, 256, 1), 'latent_space_dim': 64, 'reducedDimension': 128, 'num_conv_layers': 7, 'learning_rate': 0.005723365888116154, 'batch_size': 8, 'epochs': 20, 'opt': 'Adam'}, 'ended': 1687140551.43595, 'samples': [{'title': 'Voxel Training 1', 'started': 1687140413.1489315, 'params': {}, 'ended': 1687140551.4358807}]}, {'title': 'Epoch Training', 'started': 1687140556.1794028, 'params': {'inputShape': (256, 256, 1), 'latent_space_dim': 256, 'reducedDimension': 512, 'num_conv_layers': 8, 'learning_rate': 0.01, 'batch_size': 32, 'epochs': 40, 'opt': 'SGD'}, 'ended': 1687140685.838215, 'samples': [{'title': 'Voxel Training 1', 'started': 1687140556.1794434, 'params': {}, 'ended': 1687140685.8380904}]}, {'title': 'Epoch Training', 'started': 1687140693.2454104, 'params': {'inputShape': (256, 256, 1), 'latent_space_dim': 256, 'reducedDimension': 512, 'num_conv_layers': 8, 'learning_rate': 0.008420820734546303, 'batch_size': 32, 'epochs': 40, 'opt': 'SGD'}, 'ended': 1687140834.4843924, 'samples': [{'title': 'Voxel Training 1', 'started': 1687140693.2454562, 'params': {}, 'ended': 1687140834.484324}]}, {'title': 'Epoch Training', 'started': 1687140838.6925676, 'params': {'inputShape': (256, 256, 1), 'latent_space_dim': 64, 'reducedDimension': 128, 'num_conv_layers': 6, 'learning_rate': 0.005303849080549553, 'batch_size': 16, 'epochs': 20, 'opt': 'RMSprop'}, 'ended': 1687140922.8942919, 'samples': [{'title': 'Voxel Training 1', 'started': 1687140838.6926124, 'params': {}, 'ended': 1687140922.894224}]}, {'title': 'Epoch Training', 'started': 1687140926.961069, 'params': {'inputShape': (256, 256, 1), 'latent_space_dim': 64, 'reducedDimension': 128, 'num_conv_layers': 5, 'learning_rate': 0.001, 'batch_size': 16, 'epochs': 20, 'opt': 'RMSprop'}, 'ended': 1687140998.2700334, 'samples': [{'title': 'Voxel Training 1', 'started': 1687140926.9611244, 'params': {}, 'ended': 1687140998.2699592}]}, {'title': 'Epoch Training', 'started': 1687141001.6622617, 'params': {'inputShape': (256, 256, 1), 'latent_space_dim': 64, 'reducedDimension': 128, 'num_conv_layers': 4, 'learning_rate': 0.004611498730661891, 'batch_size': 8, 'epochs': 20, 'opt': 'Adam'}, 'ended': 1687141091.7830105, 'samples': [{'title': 'Voxel Training 1', 'started': 1687141001.6623032, 'params': {}, 'ended': 1687141091.782944}]}, {'title': 'Epoch Training', 'started': 1687141098.30662, 'params': {'inputShape': (256, 256, 1), 'latent_space_dim': 128, 'reducedDimension': 256, 'num_conv_layers': 8, 'learning_rate': 0.0061051767836933744, 'batch_size': 16, 'epochs': 40, 'opt': 'RMSprop'}, 'ended': 1687141317.58922, 'samples': [{'title': 'Voxel Training 1', 'started': 1687141098.3066585, 'params': {}, 'ended': 1687141317.5891504}]}, {'title': 'Epoch Training', 'started': 1687141322.8646135, 'params': {'inputShape': (256, 256, 1), 'latent_space_dim': 128, 'reducedDimension': 256, 'num_conv_layers': 8, 'learning_rate': 0.0037873399450172596, 'batch_size': 16, 'epochs': 40, 'opt': 'RMSprop'}, 'ended': 1687141550.6011953, 'samples': [{'title': 'Voxel Training 1', 'started': 1687141322.864658, 'params': {}, 'ended': 1687141550.6011236}]}, {'title': 'Epoch Training', 'started': 1687141555.6090238, 'params': {'inputShape': (256, 256, 1), 'latent_space_dim': 64, 'reducedDimension': 256, 'num_conv_layers': 7, 'learning_rate': 0.01, 'batch_size': 16, 'epochs': 40, 'opt': 'RMSprop'}, 'ended': 1687141723.3169198, 'samples': [{'title': 'Voxel Training 1', 'started': 1687141555.6090713, 'params': {}, 'ended': 1687141723.3168466}]}, {'title': 'Epoch Training', 'started': 1687141726.9458342, 'params': {'inputShape': (256, 256, 1), 'latent_space_dim': 64, 'reducedDimension': 128, 'num_conv_layers': 4, 'learning_rate': 0.0048372879623553985, 'batch_size': 8, 'epochs': 20, 'opt': 'Adam'}, 'ended': 1687141810.6687095, 'samples': [{'title': 'Voxel Training 1', 'started': 1687141726.9458847, 'params': {}, 'ended': 1687141810.668638}]}, {'title': 'Epoch Training', 'started': 1687141815.4757195, 'params': {'inputShape': (256, 256, 1), 'latent_space_dim': 256, 'reducedDimension': 512, 'num_conv_layers': 8, 'learning_rate': 0.01, 'batch_size': 32, 'epochs': 40, 'opt': 'SGD'}, 'ended': 1687141946.510272, 'samples': [{'title': 'Voxel Training 1', 'started': 1687141815.4757607, 'params': {}, 'ended': 1687141946.510202}]}, {'title': 'Epoch Training', 'started': 1687141951.8439775, 'params': {'inputShape': (256, 256, 1), 'latent_space_dim': 64, 'reducedDimension': 128, 'num_conv_layers': 8, 'learning_rate': 0.005452134608046, 'batch_size': 8, 'epochs': 40, 'opt': 'RMSprop'}, 'ended': 1687142341.370471, 'samples': [{'title': 'Voxel Training 1', 'started': 1687141951.8440223, 'params': {}, 'ended': 1687142341.3704033}]}, {'title': 'Epoch Training', 'started': 1687142344.6937842, 'params': {'inputShape': (256, 256, 1), 'latent_space_dim': 64, 'reducedDimension': 128, 'num_conv_layers': 4, 'learning_rate': 0.00279816346340407, 'batch_size': 8, 'epochs': 20, 'opt': 'Adam'}, 'ended': 1687142429.9823494, 'samples': [{'title': 'Voxel Training 1', 'started': 1687142344.6938345, 'params': {}, 'ended': 1687142429.982279}]}, {'title': 'Epoch Training', 'started': 1687142434.9638143, 'params': {'inputShape': (256, 256, 1), 'latent_space_dim': 256, 'reducedDimension': 512, 'num_conv_layers': 8, 'learning_rate': 0.007372857441369711, 'batch_size': 32, 'epochs': 40, 'opt': 'SGD'}, 'ended': 1687142568.5065727, 'samples': [{'title': 'Voxel Training 1', 'started': 1687142434.963867, 'params': {}, 'ended': 1687142568.5065067}]}, {'title': 'Epoch Training', 'started': 1687142574.064458, 'params': {'inputShape': (256, 256, 1), 'latent_space_dim': 128, 'reducedDimension': 256, 'num_conv_layers': 8, 'learning_rate': 0.009893220473193532, 'batch_size': 16, 'epochs': 40, 'opt': 'RMSprop'}, 'ended': 1687142806.3208823, 'samples': [{'title': 'Voxel Training 1', 'started': 1687142574.064506, 'params': {}, 'ended': 1687142806.3208184}]}, {'title': 'Epoch Training', 'started': 1687142811.8240976, 'params': {'inputShape': (256, 256, 1), 'latent_space_dim': 256, 'reducedDimension': 512, 'num_conv_layers': 8, 'learning_rate': 0.009557925925326059, 'batch_size': 32, 'epochs': 40, 'opt': 'SGD'}, 'ended': 1687142954.2133632, 'samples': [{'title': 'Voxel Training 1', 'started': 1687142811.824154, 'params': {}, 'ended': 1687142954.2132936}]}, {'title': 'Epoch Training', 'started': 1687142958.450919, 'params': {'inputShape': (256, 256, 1), 'latent_space_dim': 64, 'reducedDimension': 128, 'num_conv_layers': 6, 'learning_rate': 0.005538799425973551, 'batch_size': 8, 'epochs': 30, 'opt': 'Adam'}, 'ended': 1687143120.9705784, 'samples': [{'title': 'Voxel Training 1', 'started': 1687142958.450964, 'params': {}, 'ended': 1687143120.970507}]}, {'title': 'Epoch Training', 'started': 1687143125.7413647, 'params': {'inputShape': (256, 256, 1), 'latent_space_dim': 256, 'reducedDimension': 512, 'num_conv_layers': 8, 'learning_rate': 0.009475372816691975, 'batch_size': 32, 'epochs': 40, 'opt': 'SGD'}, 'ended': 1687143252.8140457, 'samples': [{'title': 'Voxel Training 1', 'started': 1687143125.7414052, 'params': {}, 'ended': 1687143252.8139727}]}, {'title': 'Epoch Training', 'started': 1687143258.1386895, 'params': {'inputShape': (256, 256, 1), 'latent_space_dim': 128, 'reducedDimension': 256, 'num_conv_layers': 8, 'learning_rate': 0.006689366561167515, 'batch_size': 16, 'epochs': 40, 'opt': 'RMSprop'}, 'ended': 1687143484.2849584, 'samples': [{'title': 'Voxel Training 1', 'started': 1687143258.138824, 'params': {}, 'ended': 1687143484.2848923}]}, {'title': 'Epoch Training', 'started': 1687143487.8711457, 'params': {'inputShape': (256, 256, 1), 'latent_space_dim': 64, 'reducedDimension': 128, 'num_conv_layers': 4, 'learning_rate': 0.004321284177637806, 'batch_size': 8, 'epochs': 20, 'opt': 'Adam'}, 'ended': 1687143572.7229743, 'samples': [{'title': 'Voxel Training 1', 'started': 1687143487.8711903, 'params': {}, 'ended': 1687143572.7229083}]}, {'title': 'Epoch Training', 'started': 1687143577.8005505, 'params': {'inputShape': (256, 256, 1), 'latent_space_dim': 64, 'reducedDimension': 128, 'num_conv_layers': 8, 'learning_rate': 0.006069598298510365, 'batch_size': 16, 'epochs': 40, 'opt': 'RMSprop'}, 'ended': 1687143800.2254355, 'samples': [{'title': 'Voxel Training 1', 'started': 1687143577.8006008, 'params': {}, 'ended': 1687143800.2253644}]}, {'title': 'Epoch Training', 'started': 1687143805.5091085, 'params': {'inputShape': (256, 256, 1), 'latent_space_dim': 128, 'reducedDimension': 256, 'num_conv_layers': 8, 'learning_rate': 0.005953630840962417, 'batch_size': 16, 'epochs': 40, 'opt': 'RMSprop'}, 'ended': 1687144035.4449315, 'samples': [{'title': 'Voxel Training 1', 'started': 1687143805.5091558, 'params': {}, 'ended': 1687144035.4448588}]}, {'title': 'Epoch Training', 'started': 1687144038.8769422, 'params': {'inputShape': (256, 256, 1), 'latent_space_dim': 64, 'reducedDimension': 128, 'num_conv_layers': 4, 'learning_rate': 0.0026733415428672387, 'batch_size': 8, 'epochs': 20, 'opt': 'Adam'}, 'ended': 1687144123.980116, 'samples': [{'title': 'Voxel Training 1', 'started': 1687144038.8769827, 'params': {}, 'ended': 1687144123.9800358}]}, {'title': 'Epoch Training', 'started': 1687144128.3010938, 'params': {'inputShape': (256, 256, 1), 'latent_space_dim': 64, 'reducedDimension': 128, 'num_conv_layers': 7, 'learning_rate': 0.004532159328765629, 'batch_size': 8, 'epochs': 30, 'opt': 'RMSprop'}, 'ended': 1687144347.4300272, 'samples': [{'title': 'Voxel Training 1', 'started': 1687144128.3011405, 'params': {}, 'ended': 1687144347.4299576}]}, {'title': 'Epoch Training', 'started': 1687144350.9183154, 'params': {'inputShape': (256, 256, 1), 'latent_space_dim': 64, 'reducedDimension': 128, 'num_conv_layers': 5, 'learning_rate': 0.0045416799209296805, 'batch_size': 8, 'epochs': 20, 'opt': 'Adam'}, 'ended': 1687144443.20344, 'samples': [{'title': 'Voxel Training 1', 'started': 1687144350.9183807, 'params': {}, 'ended': 1687144443.2033753}]}, {'title': 'Epoch Training', 'started': 1687144447.2126637, 'params': {'inputShape': (256, 256, 1), 'latent_space_dim': 128, 'reducedDimension': 256, 'num_conv_layers': 6, 'learning_rate': 0.0056584579617098285, 'batch_size': 16, 'epochs': 30, 'opt': 'Adam'}, 'ended': 1687144539.3717418, 'samples': [{'title': 'Voxel Training 1', 'started': 1687144447.2127087, 'params': {}, 'ended': 1687144539.3716695}]}, {'title': 'Epoch Training', 'started': 1687144544.6686656, 'params': {'inputShape': (256, 256, 1), 'latent_space_dim': 128, 'reducedDimension': 256, 'num_conv_layers': 8, 'learning_rate': 0.005484909040932534, 'batch_size': 16, 'epochs': 40, 'opt': 'RMSprop'}, 'ended': 1687144769.1337938, 'samples': [{'title': 'Voxel Training 1', 'started': 1687144544.6687117, 'params': {}, 'ended': 1687144769.1337314}]}, {'title': 'Epoch Training', 'started': 1687144774.726133, 'params': {'inputShape': (256, 256, 1), 'latent_space_dim': 128, 'reducedDimension': 256, 'num_conv_layers': 8, 'learning_rate': 0.005275891511257226, 'batch_size': 16, 'epochs': 40, 'opt': 'RMSprop'}, 'ended': 1687145001.8752143, 'samples': [{'title': 'Voxel Training 1', 'started': 1687144774.7262504, 'params': {}, 'ended': 1687145001.8751428}]}, {'title': 'Epoch Training', 'started': 1687145007.3734972, 'params': {'inputShape': (256, 256, 1), 'latent_space_dim': 128, 'reducedDimension': 256, 'num_conv_layers': 8, 'learning_rate': 0.005960892704558751, 'batch_size': 16, 'epochs': 40, 'opt': 'RMSprop'}, 'ended': 1687145235.5749447, 'samples': [{'title': 'Voxel Training 1', 'started': 1687145007.3735535, 'params': {}, 'ended': 1687145235.5748734}]}, {'title': 'Epoch Training', 'started': 1687145240.7601633, 'params': {'inputShape': (256, 256, 1), 'latent_space_dim': 64, 'reducedDimension': 128, 'num_conv_layers': 8, 'learning_rate': 0.004000906144811733, 'batch_size': 8, 'epochs': 40, 'opt': 'Adam'}, 'ended': 1687145573.2716355, 'samples': [{'title': 'Voxel Training 1', 'started': 1687145240.7602177, 'params': {}, 'ended': 1687145573.2715697}]}, {'title': 'Epoch Training', 'started': 1687145578.7010565, 'params': {'inputShape': (256, 256, 1), 'latent_space_dim': 64, 'reducedDimension': 128, 'num_conv_layers': 8, 'learning_rate': 0.004584880210912164, 'batch_size': 8, 'epochs': 40, 'opt': 'RMSprop'}, 'ended': 1687145973.8737621, 'samples': [{'title': 'Voxel Training 1', 'started': 1687145578.7011125, 'params': {}, 'ended': 1687145973.8736837}]}, {'title': 'Epoch Training', 'started': 1687145979.1343331, 'params': {'inputShape': (256, 256, 1), 'latent_space_dim': 64, 'reducedDimension': 128, 'num_conv_layers': 8, 'learning_rate': 0.00475139979203816, 'batch_size': 8, 'epochs': 40, 'opt': 'RMSprop'}, 'ended': 1687146373.955757, 'samples': [{'title': 'Voxel Training 1', 'started': 1687145979.1344302, 'params': {}, 'ended': 1687146373.9556806}]}, {'title': 'Epoch Training', 'started': 1687146379.406978, 'params': {'inputShape': (256, 256, 1), 'latent_space_dim': 64, 'reducedDimension': 128, 'num_conv_layers': 8, 'learning_rate': 0.004547233208815632, 'batch_size': 16, 'epochs': 40, 'opt': 'RMSprop'}, 'ended': 1687146611.7212245, 'samples': [{'title': 'Voxel Training 1', 'started': 1687146379.4070194, 'params': {}, 'ended': 1687146611.7211607}]}, {'title': 'Epoch Training', 'started': 1687146616.4443502, 'params': {'inputShape': (256, 256, 1), 'latent_space_dim': 64, 'reducedDimension': 128, 'num_conv_layers': 7, 'learning_rate': 0.0035675860567317536, 'batch_size': 8, 'epochs': 30, 'opt': 'Adam'}, 'ended': 1687146806.7357478, 'samples': [{'title': 'Voxel Training 1', 'started': 1687146616.4444044, 'params': {}, 'ended': 1687146806.7356718}]}, {'title': 'Epoch Training', 'started': 1687146811.5800953, 'params': {'inputShape': (256, 256, 1), 'latent_space_dim': 64, 'reducedDimension': 128, 'num_conv_layers': 8, 'learning_rate': 0.004401419911265014, 'batch_size': 8, 'epochs': 40, 'opt': 'RMSprop'}, 'ended': 1687147195.0415325, 'samples': [{'title': 'Voxel Training 1', 'started': 1687146811.5801423, 'params': {}, 'ended': 1687147195.041463}]}, {'title': 'Epoch Training', 'started': 1687147200.1951635, 'params': {'inputShape': (256, 256, 1), 'latent_space_dim': 64, 'reducedDimension': 128, 'num_conv_layers': 8, 'learning_rate': 0.004488751080706173, 'batch_size': 16, 'epochs': 40, 'opt': 'RMSprop'}, 'ended': 1687147433.9013078, 'samples': [{'title': 'Voxel Training 1', 'started': 1687147200.1952138, 'params': {}, 'ended': 1687147433.9012368}]}, {'title': 'Epoch Training', 'started': 1687147439.5818884, 'params': {'inputShape': (256, 256, 1), 'latent_space_dim': 64, 'reducedDimension': 128, 'num_conv_layers': 8, 'learning_rate': 0.004269259663173681, 'batch_size': 8, 'epochs': 40, 'opt': 'RMSprop'}, 'ended': 1687147832.590868, 'samples': [{'title': 'Voxel Training 1', 'started': 1687147439.5819304, 'params': {}, 'ended': 1687147832.5908022}]}, {'title': 'Epoch Training', 'started': 1687147837.9849749, 'params': {'inputShape': (256, 256, 1), 'latent_space_dim': 64, 'reducedDimension': 128, 'num_conv_layers': 8, 'learning_rate': 0.0044706337579864626, 'batch_size': 8, 'epochs': 40, 'opt': 'RMSprop'}, 'ended': 1687148233.1117556, 'samples': [{'title': 'Voxel Training 1', 'started': 1687147837.9850209, 'params': {}, 'ended': 1687148233.1116815}]}, {'title': 'Epoch Training', 'started': 1687148238.3925545, 'params': {'inputShape': (256, 256, 1), 'latent_space_dim': 64, 'reducedDimension': 128, 'num_conv_layers': 8, 'learning_rate': 0.004516034159156908, 'batch_size': 8, 'epochs': 40, 'opt': 'RMSprop'}, 'ended': 1687148627.735085, 'samples': [{'title': 'Voxel Training 1', 'started': 1687148238.3926024, 'params': {}, 'ended': 1687148627.7350194}]}, {'title': 'Epoch Training', 'started': 1687148632.8940227, 'params': {'inputShape': (256, 256, 1), 'latent_space_dim': 128, 'reducedDimension': 256, 'num_conv_layers': 8, 'learning_rate': 0.00535354960638855, 'batch_size': 16, 'epochs': 40, 'opt': 'RMSprop'}, 'ended': 1687148865.465202, 'samples': [{'title': 'Voxel Training 1', 'started': 1687148632.8943586, 'params': {}, 'ended': 1687148865.4651392}]}, {'title': 'Epoch Training', 'started': 1687148871.1838465, 'params': {'inputShape': (256, 256, 1), 'latent_space_dim': 64, 'reducedDimension': 128, 'num_conv_layers': 8, 'learning_rate': 0.0045351798887080024, 'batch_size': 8, 'epochs': 40, 'opt': 'RMSprop'}, 'ended': 1687149266.4374566, 'samples': [{'title': 'Voxel Training 1', 'started': 1687148871.183889, 'params': {}, 'ended': 1687149266.437383}]}, {'title': 'Epoch Training', 'started': 1687149272.109415, 'params': {'inputShape': (256, 256, 1), 'latent_space_dim': 64, 'reducedDimension': 128, 'num_conv_layers': 8, 'learning_rate': 0.0045351798887080024, 'batch_size': 8, 'epochs': 40, 'opt': 'RMSprop'}, 'ended': 1687149662.6460154, 'samples': [{'title': 'Voxel Training 1', 'started': 1687149272.1094646, 'params': {}, 'ended': 1687149662.6459508}]}, {'title': 'Epoch Training', 'started': 1687149668.0374293, 'params': {'inputShape': (256, 256, 1), 'latent_space_dim': 64, 'reducedDimension': 128, 'num_conv_layers': 8, 'learning_rate': 0.0045351798887080024, 'batch_size': 8, 'epochs': 40, 'opt': 'RMSprop'}, 'ended': 1687150066.308697, 'samples': [{'title': 'Voxel Training 1', 'started': 1687149668.0374744, 'params': {}, 'ended': 1687150066.3086286}]}, {'title': 'Epoch Training', 'started': 1687150071.7217019, 'params': {'inputShape': (256, 256, 1), 'latent_space_dim': 64, 'reducedDimension': 128, 'num_conv_layers': 8, 'learning_rate': 0.0045351798887080024, 'batch_size': 8, 'epochs': 40, 'opt': 'RMSprop'}, 'ended': 1687150467.8769522, 'samples': [{'title': 'Voxel Training 1', 'started': 1687150071.721744, 'params': {}, 'ended': 1687150467.8768876}]}, {'title': 'Epoch Training', 'started': 1687150473.363449, 'params': {'inputShape': (256, 256, 1), 'latent_space_dim': 64, 'reducedDimension': 128, 'num_conv_layers': 8, 'learning_rate': 0.0045351798887080024, 'batch_size': 8, 'epochs': 40, 'opt': 'RMSprop'}, 'ended': 1687150863.7669263, 'samples': [{'title': 'Voxel Training 1', 'started': 1687150473.3635778, 'params': {}, 'ended': 1687150863.7668626}]}, {'title': 'Epoch Training', 'started': 1687150869.1256707, 'params': {'inputShape': (256, 256, 1), 'latent_space_dim': 64, 'reducedDimension': 128, 'num_conv_layers': 8, 'learning_rate': 0.0045351798887080024, 'batch_size': 8, 'epochs': 40, 'opt': 'RMSprop'}, 'ended': 1687151265.5237343, 'samples': [{'title': 'Voxel Training 1', 'started': 1687150869.125717, 'params': {}, 'ended': 1687151265.5236712}]}, {'title': 'Epoch Training', 'started': 1687151270.324731, 'params': {'inputShape': (256, 256, 1), 'latent_space_dim': 64, 'reducedDimension': 128, 'num_conv_layers': 8, 'learning_rate': 0.0045351798887080024, 'batch_size': 8, 'epochs': 40, 'opt': 'RMSprop'}, 'ended': 1687151664.2346385, 'samples': [{'title': 'Voxel Training 1', 'started': 1687151270.324786, 'params': {}, 'ended': 1687151664.234572}]}, {'title': 'Epoch Training', 'started': 1687151669.9180982, 'params': {'inputShape': (256, 256, 1), 'latent_space_dim': 64, 'reducedDimension': 128, 'num_conv_layers': 8, 'learning_rate': 0.0045351798887080024, 'batch_size': 8, 'epochs': 40, 'opt': 'RMSprop'}, 'ended': 1687152066.5084207, 'samples': [{'title': 'Voxel Training 1', 'started': 1687151669.9181478, 'params': {}, 'ended': 1687152066.5083375}]}, {'title': 'Epoch Training', 'started': 1687152071.835812, 'params': {'inputShape': (256, 256, 1), 'latent_space_dim': 64, 'reducedDimension': 128, 'num_conv_layers': 8, 'learning_rate': 0.0045351798887080024, 'batch_size': 8, 'epochs': 40, 'opt': 'RMSprop'}, 'ended': 1687152482.2847989, 'samples': [{'title': 'Voxel Training 1', 'started': 1687152071.8358674, 'params': {}, 'ended': 1687152482.2847233}]}, {'title': 'Epoch Training', 'started': 1687152488.1238441, 'params': {'inputShape': (256, 256, 1), 'latent_space_dim': 64, 'reducedDimension': 128, 'num_conv_layers': 8, 'learning_rate': 0.0045351798887080024, 'batch_size': 8, 'epochs': 40, 'opt': 'RMSprop'}, 'ended': 1687152889.8229544, 'samples': [{'title': 'Voxel Training 1', 'started': 1687152488.1239443, 'params': {}, 'ended': 1687152889.8228738}]}]]\n"
     ]
    }
   ],
   "source": [
    "import json\n",
    "jd=[]\n",
    "for training in trainings_epochs:\n",
    "    json_data=[]\n",
    "    for obj in training[\"trainings\"]:\n",
    "        training_obj=obj.__dict__\n",
    "        samples=[]\n",
    "        for sample in training_obj[\"samples\"]:\n",
    "            samples.append(sample)\n",
    "        training_obj[\"samples\"]=samples\n",
    "        json_data.append(training_obj)\n",
    "    jd.append(json_data)  \n",
    "\n",
    "# Print the JSON data\n",
    "print(jd)\n",
    "# Convert the object to JSON\n",
    "with open(\"output.json\", \"w\") as file:\n",
    "    file.write(json.dumps(jd))"
   ]
  },
  {
   "attachments": {},
   "cell_type": "markdown",
   "id": "e56a1190",
   "metadata": {},
   "source": [
    "## Testing the model"
   ]
  },
  {
   "attachments": {},
   "cell_type": "markdown",
   "id": "b97d40fc",
   "metadata": {},
   "source": [
    "### Load test data"
   ]
  },
  {
   "cell_type": "code",
   "execution_count": null,
   "id": "1bdb6f2c",
   "metadata": {},
   "outputs": [],
   "source": [
    "X_test=np.load('X_test.npy')\n",
    "X_test.shape"
   ]
  },
  {
   "cell_type": "code",
   "execution_count": null,
   "id": "2c02321e",
   "metadata": {},
   "outputs": [],
   "source": [
    "first  = X_test[0]\n",
    "Topredict = first[1:]\n",
    "test = first[:-1]"
   ]
  },
  {
   "cell_type": "code",
   "execution_count": null,
   "id": "0af24ff8",
   "metadata": {},
   "outputs": [],
   "source": [
    "n = 10\n",
    "\n",
    "plt.figure(figsize=(20,4))\n",
    "for i in range(n):\n",
    "    # original\n",
    "    ax = plt.subplot(2,n,i+1)\n",
    "    plt.imshow(Topredict[i].astype(\"float32\"))\n",
    "    plt.title('original')\n",
    "    plt.gray()\n",
    "    ax.get_xaxis().set_visible(False)\n",
    "    ax.get_yaxis().set_visible(False)\n",
    "\n",
    "    # reconstructed\n",
    "    ax = plt.subplot(2,n,i+1+n)\n",
    "    plt.imshow(testing[i].reshape(256,256,1))\n",
    "    plt.title('reconstructed')\n",
    "    plt.gray()\n",
    "    ax.get_xaxis().set_visible(False)\n",
    "    ax.get_yaxis().set_visible(False)"
   ]
  },
  {
   "cell_type": "code",
   "execution_count": null,
   "id": "53f6b7ce",
   "metadata": {},
   "outputs": [],
   "source": [
    "# reconstruction.Generate.save('reconstruction_10batch_10epochs.h5')"
   ]
  },
  {
   "cell_type": "code",
   "execution_count": null,
   "id": "9841f302",
   "metadata": {},
   "outputs": [],
   "source": [
    "file_path = \"reconstructed.raw\"\n",
    "testing.insert(0, first[0].reshape(1,256,256,1))\n",
    "print(len(testing))"
   ]
  },
  {
   "cell_type": "code",
   "execution_count": null,
   "id": "744e585f",
   "metadata": {},
   "outputs": [],
   "source": [
    "final = np.array(testing,np.float32).reshape(250,256,256)\n",
    "final.shape"
   ]
  },
  {
   "cell_type": "code",
   "execution_count": null,
   "id": "9719e06c",
   "metadata": {},
   "outputs": [],
   "source": [
    "file_path = \"my_array.npy\"\n",
    "np.save(\"file\", final)"
   ]
  },
  {
   "cell_type": "code",
   "execution_count": null,
   "id": "a59b8d2b",
   "metadata": {},
   "outputs": [],
   "source": [
    "final.tofile(file_path)"
   ]
  },
  {
   "cell_type": "code",
   "execution_count": null,
   "id": "149818c7",
   "metadata": {},
   "outputs": [],
   "source": [
    "Volume = np.fromfile(file_path, dtype=np.uint8)\n",
    "Volume = Volume.reshape(250,256,256)\n",
    "Volume.shape"
   ]
  }
 ],
 "metadata": {
  "kernelspec": {
   "display_name": "Python 3 (ipykernel)",
   "language": "python",
   "name": "python3"
  },
  "language_info": {
   "codemirror_mode": {
    "name": "ipython",
    "version": 3
   },
   "file_extension": ".py",
   "mimetype": "text/x-python",
   "name": "python",
   "nbconvert_exporter": "python",
   "pygments_lexer": "ipython3",
   "version": "3.9.16"
  }
 },
 "nbformat": 4,
 "nbformat_minor": 5
}
