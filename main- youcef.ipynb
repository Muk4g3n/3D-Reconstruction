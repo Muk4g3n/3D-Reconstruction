{
 "cells": [
  {
   "attachments": {},
   "cell_type": "markdown",
   "id": "ac35d750",
   "metadata": {},
   "source": [
    "# Modified 3D PMRNN"
   ]
  },
  {
   "attachments": {},
   "cell_type": "markdown",
   "id": "754a7290",
   "metadata": {},
   "source": [
    "## Module Imports"
   ]
  },
  {
   "cell_type": "code",
   "execution_count": null,
   "id": "72812cef",
   "metadata": {},
   "outputs": [],
   "source": [
    "import tensorflow as tf\n",
    "tf.compat.v1.disable_eager_execution()\n",
    "config = tf.compat.v1.ConfigProto()\n",
    "config.gpu_options.allow_growth = True\n",
    "sess = tf.compat.v1.Session(config=config)\n",
    "import cv2\n",
    "import os\n",
    "import Utils\n",
    "import numpy as np\n",
    "import matplotlib.pyplot as plt\n",
    "from CONFIGURATION import CONFIGURATION\n",
    "from Reconstruction import Reconstruction"
   ]
  },
  {
   "cell_type": "code",
   "execution_count": null,
   "id": "b18052c8",
   "metadata": {},
   "outputs": [],
   "source": [
    "print(\"TensorFlow version:\", tf.__version__)\n",
    "print(\"cv2 version:\",cv2.__version__)\n",
    "print(\"np version:\",np.__version__)\n",
    "print(\"plt version:\",plt.__version__)"
   ]
  },
  {
   "cell_type": "code",
   "execution_count": 1,
   "id": "123ce716",
   "metadata": {},
   "outputs": [
    {
     "name": "stdout",
     "output_type": "stream",
     "text": [
      "sklearn version: 1.2.2\n"
     ]
    }
   ],
   "source": [
    "import sklearn\n",
    "print(\"sklearn version:\",sklearn.__version__)"
   ]
  },
  {
   "cell_type": "code",
   "execution_count": null,
   "id": "63a03177",
   "metadata": {},
   "outputs": [],
   "source": [
    "from tensorflow.keras import layers,losses #,Sequential,metrics\n",
    "from tensorflow.keras.models import Model\n",
    "# from tensorflow.keras.layers import Layer\n",
    "# from tensorflow.keras import optimizers \n",
    "from tensorflow.keras.optimizers import * \n",
    "# from tensorflow.keras.optimizers.experimental import SGD\n",
    "# from tensorflow.image import ssim"
   ]
  },
  {
   "attachments": {},
   "cell_type": "markdown",
   "id": "8c8c790c",
   "metadata": {},
   "source": [
    "## Load new Data"
   ]
  },
  {
   "attachments": {},
   "cell_type": "markdown",
   "id": "19893387",
   "metadata": {},
   "source": [
    "### reading data"
   ]
  },
  {
   "cell_type": "code",
   "execution_count": null,
   "id": "e52f3713",
   "metadata": {},
   "outputs": [],
   "source": [
    "image_data = Utils.read_data(\"Berea_2d25um_binary.raw\")\n",
    "image_data.shape"
   ]
  },
  {
   "attachments": {},
   "cell_type": "markdown",
   "id": "eec28ea2",
   "metadata": {},
   "source": [
    "### Voxel extraction "
   ]
  },
  {
   "cell_type": "code",
   "execution_count": null,
   "id": "40f1e78b",
   "metadata": {},
   "outputs": [],
   "source": [
    "voxels = Utils.extract_subvolumes(image_data)\n",
    "voxels.shape"
   ]
  },
  {
   "cell_type": "code",
   "execution_count": null,
   "id": "e0405903",
   "metadata": {},
   "outputs": [],
   "source": [
    "del image_data"
   ]
  },
  {
   "attachments": {},
   "cell_type": "markdown",
   "id": "bf36c49a",
   "metadata": {},
   "source": [
    "### Train and test data extraction"
   ]
  },
  {
   "cell_type": "code",
   "execution_count": null,
   "id": "fec518e2",
   "metadata": {},
   "outputs": [],
   "source": [
    "X_train = voxels[:-6]\n",
    "X_test = voxels[-6:]"
   ]
  },
  {
   "cell_type": "code",
   "execution_count": null,
   "id": "37b159f1",
   "metadata": {},
   "outputs": [],
   "source": [
    "del voxels"
   ]
  },
  {
   "cell_type": "code",
   "execution_count": null,
   "id": "bdef105b",
   "metadata": {},
   "outputs": [],
   "source": [
    "len(X_train)"
   ]
  },
  {
   "attachments": {},
   "cell_type": "markdown",
   "id": "bca36b08",
   "metadata": {},
   "source": [
    "### Save Traited data for uses"
   ]
  },
  {
   "cell_type": "code",
   "execution_count": null,
   "id": "784fbc0c",
   "metadata": {},
   "outputs": [],
   "source": [
    "with open('X_train.npy', 'wb') as f:\n",
    "    np.save(f, X_train)"
   ]
  },
  {
   "cell_type": "code",
   "execution_count": null,
   "id": "89f33ad5",
   "metadata": {},
   "outputs": [],
   "source": [
    "with open('X_test.npy', 'wb') as f:\n",
    "    np.save(f, X_test)"
   ]
  },
  {
   "attachments": {},
   "cell_type": "markdown",
   "id": "39b13c5c",
   "metadata": {},
   "source": [
    "## TensorFlow GPU setup"
   ]
  },
  {
   "cell_type": "code",
   "execution_count": null,
   "id": "638ae073",
   "metadata": {},
   "outputs": [],
   "source": [
    "device = tf.config.list_physical_devices(\"GPU\")\n",
    "print(device)\n",
    "tf.config.experimental.set_memory_growth(device[0],True)"
   ]
  },
  {
   "cell_type": "code",
   "execution_count": null,
   "id": "e4da3df1",
   "metadata": {},
   "outputs": [],
   "source": [
    "os.environ['TF_FORCE_GPU_ALLOW_GROWTH'] = 'true'"
   ]
  },
  {
   "cell_type": "code",
   "execution_count": null,
   "id": "59464a9e",
   "metadata": {},
   "outputs": [],
   "source": [
    "tf.keras.backend.clear_session()"
   ]
  },
  {
   "attachments": {},
   "cell_type": "markdown",
   "id": "56d187f0",
   "metadata": {},
   "source": [
    "## Model creation"
   ]
  },
  {
   "attachments": {},
   "cell_type": "markdown",
   "id": "443d3c60",
   "metadata": {},
   "source": [
    "### Build and Compile model"
   ]
  },
  {
   "cell_type": "code",
   "execution_count": null,
   "id": "529bf990",
   "metadata": {},
   "outputs": [],
   "source": [
    "reconstruction = Reconstruction()\n",
    "reconstruction.summary()\n",
    "reconstruction.compile()"
   ]
  },
  {
   "attachments": {},
   "cell_type": "markdown",
   "id": "73330f25",
   "metadata": {},
   "source": [
    "## Load Traited data for training (voxels)"
   ]
  },
  {
   "cell_type": "code",
   "execution_count": null,
   "id": "94e02c22",
   "metadata": {},
   "outputs": [],
   "source": [
    "X_train=np.load('X_train.npy')\n",
    "X_train.shape"
   ]
  },
  {
   "attachments": {},
   "cell_type": "markdown",
   "id": "2e6e9e81",
   "metadata": {},
   "source": [
    "### idk"
   ]
  },
  {
   "cell_type": "code",
   "execution_count": null,
   "id": "37376c08",
   "metadata": {},
   "outputs": [],
   "source": [
    "learnedVoxels = []\n",
    "inferenceVoxels = []\n",
    "for voxel in X_train:\n",
    "    learnedVoxels.append(voxel[:-1])\n",
    "    inferenceVoxels.append(voxel[1:])\n",
    "\n",
    "# learnedVoxels = np.array(learnedVoxels)\n",
    "# inferenceVoxels = np.array(inferenceVoxels)"
   ]
  },
  {
   "attachments": {},
   "cell_type": "markdown",
   "id": "aef04e4a",
   "metadata": {},
   "source": [
    "## Training "
   ]
  },
  {
   "cell_type": "code",
   "execution_count": null,
   "id": "748489ed",
   "metadata": {},
   "outputs": [],
   "source": []
  },
  {
   "attachments": {},
   "cell_type": "markdown",
   "id": "e03f539a",
   "metadata": {},
   "source": [
    "### Imports"
   ]
  },
  {
   "cell_type": "code",
   "execution_count": null,
   "id": "41a01c68",
   "metadata": {},
   "outputs": [],
   "source": [
    "from mealpy.swarm_based import GWO\n",
    "from sklearn.preprocessing import LabelEncoder\n",
    "import time\n",
    "from datetime import datetime"
   ]
  },
  {
   "attachments": {},
   "cell_type": "markdown",
   "id": "a3d89d7a",
   "metadata": {},
   "source": [
    "### Lables"
   ]
  },
  {
   "cell_type": "code",
   "execution_count": null,
   "id": "021d314f",
   "metadata": {},
   "outputs": [],
   "source": [
    "OPT_ENCODER = LabelEncoder()\n",
    "#OPT_ENCODER.fit(['SGD', 'RMSprop', 'Adagrad', 'Adadelta', 'Adam', 'Adamax', 'Nadam'])\n",
    "OPT_ENCODER.fit(['SGD', 'RMSprop', 'Adagrad', 'Adam'])"
   ]
  },
  {
   "attachments": {},
   "cell_type": "markdown",
   "id": "8022ecf1",
   "metadata": {},
   "source": [
    "### Solution Decodation function"
   ]
  },
  {
   "cell_type": "code",
   "execution_count": null,
   "id": "a85c40a5",
   "metadata": {},
   "outputs": [],
   "source": [
    "def decode_solution(solution):\n",
    "    batch_size = 2**int(solution[0])\n",
    "    \n",
    "    learning_rate = solution[1]\n",
    "    \n",
    "    opt_int = int(solution[2])\n",
    "    opt = OPT_ENCODER.inverse_transform([opt_int])[0]\n",
    "    \n",
    "    epoch = 10 *int(solution[3])\n",
    "    \n",
    "    num_filters = int(solution[4])\n",
    "    \n",
    "    latent_space_dim = 2**int(solution[5])\n",
    "    \n",
    "    reduced_dim = 2**int(solution[6])\n",
    "    \n",
    "    return [batch_size,learning_rate,opt,epoch,num_filters,latent_space_dim,reduced_dim]"
   ]
  },
  {
   "attachments": {},
   "cell_type": "markdown",
   "id": "db1236ed",
   "metadata": {},
   "source": [
    "### Objective Function"
   ]
  },
  {
   "cell_type": "code",
   "execution_count": null,
   "id": "a51c5df5",
   "metadata": {},
   "outputs": [],
   "source": [
    "def objective_function(solution):\n",
    "    tf.keras.backend.clear_session()\n",
    "    batch_size,learning_rate,opt,epoch,num_filters,latent_space_dim ,reduced_dim = decode_solution(solution)\n",
    "    reconstruction = Reconstruction(inputShape=CONFIGURATION[\"INPUT_SHAPE\"],\n",
    "                                     latent_space_dim = latent_space_dim,\n",
    "                                     reducedDimension = reduced_dim,\n",
    "                                     num_conv_layers = num_filters,\n",
    "                                     learning_rate = learning_rate,\n",
    "                                     batch_size = batch_size,\n",
    "                                     epochs = epoch,\n",
    "                                     opt = opt,\n",
    "                                   )\n",
    "#     reconstruction.summary()\n",
    "    reconstruction.compile()\n",
    "    \n",
    "    globalStart=time.time()\n",
    "    histories = []\n",
    "    for i in range(len(learnedVoxels)):\n",
    "        print(f\"currently working one voxel : {i +1}, voxels left : {len(learnedVoxels)-(i+1)} \")\n",
    "        start = time.time()\n",
    "        print(f\"Started at : {datetime.fromtimestamp(start)}\")\n",
    "        histories.append(reconstruction.train(learnedVoxels[i],inferenceVoxels[i]))\n",
    "        end = time.time()\n",
    "        print(f\"Ended at : {datetime.fromtimestamp(start)} and it took {end-start}s\")\n",
    "    globalEnd=time.time()\n",
    "    print(f\"The global Training ended after : {globalEnd-globalStart}s\")\n",
    "    reconstruction.save(save_folder=f\"model_{batch_size}_{learning_rate}_{opt}_{epoch}_{num_filters}_{latent_space_dim}_{reduced_dim}\")\n",
    "    \n",
    "    return histories[-1].history['loss'][-1]"
   ]
  },
  {
   "attachments": {},
   "cell_type": "markdown",
   "id": "1b7d9a16",
   "metadata": {},
   "source": [
    "### Configurations"
   ]
  },
  {
   "cell_type": "code",
   "execution_count": null,
   "id": "90bdecbb",
   "metadata": {},
   "outputs": [],
   "source": [
    "LB = [3    , 0.001 , 0   , 2      ,  4  ,  6    , 7 ]\n",
    "UB = [5.99 , 0.01  , 3.99, 4.99  ,  8.99,  8.99 , 9.99 ]\n",
    "\n",
    "problem_dict = {\n",
    "    \"fit_func\": objective_function,\n",
    "    \"lb\": LB,\n",
    "    \"ub\": UB,\n",
    "    \"minmax\": \"min\",\n",
    "    \"verbose\":True,\n",
    "}\n",
    "metaheuristic_configuration={\n",
    "    \"epoch\":1,\n",
    "    \"pop_size\":50\n",
    "}"
   ]
  },
  {
   "attachments": {},
   "cell_type": "markdown",
   "id": "71d2e782",
   "metadata": {},
   "source": [
    "### Lunching the metaheuristic"
   ]
  },
  {
   "cell_type": "code",
   "execution_count": null,
   "id": "db47373d",
   "metadata": {},
   "outputs": [],
   "source": [
    "model = GWO.BaseGWO(problem_dict,epoch=metaheuristic_configuration[\"epoch\"],pop_size=metaheuristic_configuration[\"pop_size\"])"
   ]
  },
  {
   "cell_type": "code",
   "execution_count": null,
   "id": "2523db0f",
   "metadata": {},
   "outputs": [],
   "source": [
    "model.solve()"
   ]
  },
  {
   "cell_type": "code",
   "execution_count": null,
   "id": "5fbabbe8",
   "metadata": {},
   "outputs": [],
   "source": [
    "print(f\"Best solution : {model.solution[0]}\")\n",
    "batch_size,learning_rate,opt,epoch,num_filters,latent_space_dim ,reduced_dim = decode_solution(model.solution[0])\n",
    "print(f\"Batch size : {batch_size}, learning_rate : {learning_rate}, opt : {opt}, epoch : {epoch}, num_filters : {num_filters}, latent_space_dim : {latent_space_dim}, reduced_dim : {reduced_dim}\")\n",
    "model.history.save_global_objectives_chart(filename=\"hello/goc\")\n",
    "model.history.save_local_objectives_chart(filename=\"hello/loc\")\n",
    "\n",
    "model.history.save_global_best_fitness_chart(filename=\"hello/gbfc\")\n",
    "model.history.save_local_best_fitness_chart(filename=\"hello/lbfc\")\n",
    "\n",
    "model.history.save_runtime_chart(filename=\"hello/rtc\")\n",
    "\n",
    "model.history.save_exploration_exploitation_chart(filename=\"hello/eec\")\n",
    "\n",
    "model.history.save_diversity_chart(filename=\"hello/dc\")\n",
    "\n",
    "model.history.save_trajectory_chart(list_agent_idx=[3, 5], selected_dimensions=[3], filename=\"hello/tc\")"
   ]
  },
  {
   "attachments": {},
   "cell_type": "markdown",
   "id": "b389ee33",
   "metadata": {},
   "source": [
    "## Training the model"
   ]
  },
  {
   "cell_type": "code",
   "execution_count": null,
   "id": "30a0b3c6",
   "metadata": {
    "scrolled": true
   },
   "outputs": [],
   "source": [
    "histories = []\n",
    "for i in range(3):\n",
    "    print(f\"currently working one voxel : {i +1}, voxels left : {3-(i+1)} \")\n",
    "    histories.append(reconstruction.train(learnedVoxels[i],inferenceVoxels[i]))"
   ]
  },
  {
   "cell_type": "code",
   "execution_count": null,
   "id": "45cdf07c",
   "metadata": {},
   "outputs": [],
   "source": [
    "saved = Reconstruction.load(save_folder=f\"test\")"
   ]
  },
  {
   "attachments": {},
   "cell_type": "markdown",
   "id": "e56a1190",
   "metadata": {},
   "source": [
    "## Testing the model"
   ]
  },
  {
   "cell_type": "code",
   "execution_count": null,
   "id": "2c02321e",
   "metadata": {},
   "outputs": [],
   "source": [
    "first  = X_test[0]\n",
    "Topredict = first[1:]\n",
    "test = first[:-1]"
   ]
  },
  {
   "cell_type": "code",
   "execution_count": null,
   "id": "ad9eb391",
   "metadata": {},
   "outputs": [],
   "source": [
    "testing = []\n",
    "inputLayer = first[0]\n",
    "# for i in range(len(first)-1):\n",
    "for i in range(10):\n",
    "\n",
    "    learned = reconstruction.learnedPrior(inputLayer.reshape(1,256,256,1))\n",
    "    testing.append(reconstruction.Generate.predict([inputLayer.reshape(1,256,256,1),learned],steps=1))\n",
    "    inputLayer = testing[-1]"
   ]
  },
  {
   "cell_type": "code",
   "execution_count": null,
   "id": "1afb9406",
   "metadata": {},
   "outputs": [],
   "source": [
    "len(testing)"
   ]
  },
  {
   "cell_type": "code",
   "execution_count": null,
   "id": "0af24ff8",
   "metadata": {},
   "outputs": [],
   "source": [
    "n = 10\n",
    "\n",
    "plt.figure(figsize=(20,4))\n",
    "for i in range(n):\n",
    "    # original\n",
    "    ax = plt.subplot(2,n,i+1)\n",
    "    plt.imshow(Topredict[i].astype(\"float32\"))\n",
    "    plt.title('original')\n",
    "    plt.gray()\n",
    "    ax.get_xaxis().set_visible(False)\n",
    "    ax.get_yaxis().set_visible(False)\n",
    "\n",
    "    # reconstructed\n",
    "    ax = plt.subplot(2,n,i+1+n)\n",
    "    plt.imshow(testing[i].reshape(256,256,1))\n",
    "    plt.title('reconstructed')\n",
    "    plt.gray()\n",
    "    ax.get_xaxis().set_visible(False)\n",
    "    ax.get_yaxis().set_visible(False)"
   ]
  },
  {
   "cell_type": "code",
   "execution_count": null,
   "id": "53f6b7ce",
   "metadata": {},
   "outputs": [],
   "source": [
    "# reconstruction.Generate.save('reconstruction_10batch_10epochs.h5')"
   ]
  },
  {
   "cell_type": "code",
   "execution_count": null,
   "id": "9841f302",
   "metadata": {},
   "outputs": [],
   "source": [
    "file_path = \"reconstructed.raw\"\n",
    "testing.insert(0, first[0].reshape(1,256,256,1))\n",
    "print(len(testing))"
   ]
  },
  {
   "cell_type": "code",
   "execution_count": null,
   "id": "744e585f",
   "metadata": {},
   "outputs": [],
   "source": [
    "final = np.array(testing,np.float32).reshape(250,256,256)\n",
    "final.shape"
   ]
  },
  {
   "cell_type": "code",
   "execution_count": null,
   "id": "9719e06c",
   "metadata": {},
   "outputs": [],
   "source": [
    "file_path = \"my_array.npy\"\n",
    "np.save(\"file\", final)"
   ]
  },
  {
   "cell_type": "code",
   "execution_count": null,
   "id": "a59b8d2b",
   "metadata": {},
   "outputs": [],
   "source": [
    "final.tofile(file_path)"
   ]
  },
  {
   "cell_type": "code",
   "execution_count": null,
   "id": "149818c7",
   "metadata": {},
   "outputs": [],
   "source": [
    "Volume = np.fromfile(file_path, dtype=np.uint8)\n",
    "Volume = Volume.reshape(250,256,256)\n",
    "Volume.shape"
   ]
  }
 ],
 "metadata": {
  "kernelspec": {
   "display_name": "Python 3 (ipykernel)",
   "language": "python",
   "name": "python3"
  },
  "language_info": {
   "codemirror_mode": {
    "name": "ipython",
    "version": 3
   },
   "file_extension": ".py",
   "mimetype": "text/x-python",
   "name": "python",
   "nbconvert_exporter": "python",
   "pygments_lexer": "ipython3",
   "version": "3.9.16"
  }
 },
 "nbformat": 4,
 "nbformat_minor": 5
}
