{
 "cells": [
  {
   "cell_type": "code",
   "execution_count": null,
   "id": "4b1ec0fb",
   "metadata": {},
   "outputs": [],
   "source": []
  },
  {
   "cell_type": "code",
   "execution_count": 5,
   "id": "1e9e0100",
   "metadata": {},
   "outputs": [],
   "source": [
    "# import numpy as np\n",
    "# import tensorflow as tf\n",
    "# tf.compat.v1.disable_eager_execution()\n",
    "# config = tf.compat.v1.ConfigProto()\n",
    "# config.gpu_options.allow_growth = True\n",
    "# sess = tf.compat.v1.Session(config=config)\n",
    "# import os\n",
    "# import cv2\n",
    "import numpy as np\n",
    "import matplotlib.pyplot as plt\n",
    "import porespy as ps\n",
    "import Utils"
   ]
  },
  {
   "cell_type": "code",
   "execution_count": 6,
   "id": "a63fb3eb",
   "metadata": {},
   "outputs": [
    {
     "data": {
      "text/plain": [
       "(1000, 1000, 1000)"
      ]
     },
     "execution_count": 6,
     "metadata": {},
     "output_type": "execute_result"
    }
   ],
   "source": [
    "image_data = Utils.read_data(\"Berea_2d25um_binary.raw\")\n",
    "image_data.shape\n"
   ]
  },
  {
   "cell_type": "code",
   "execution_count": 7,
   "id": "75be4bf8",
   "metadata": {},
   "outputs": [
    {
     "data": {
      "text/plain": [
       "(64, 250, 256, 256, 1)"
      ]
     },
     "execution_count": 7,
     "metadata": {},
     "output_type": "execute_result"
    }
   ],
   "source": [
    "voxels = Utils.extract_subvolumes(image_data)\n",
    "voxels.shape"
   ]
  },
  {
   "cell_type": "code",
   "execution_count": 8,
   "id": "9145d486",
   "metadata": {},
   "outputs": [],
   "source": [
    "# import numpy as np\n",
    "# from skimage import morphology, measure"
   ]
  },
  {
   "cell_type": "code",
   "execution_count": 9,
   "id": "1680338f",
   "metadata": {},
   "outputs": [],
   "source": [
    "\n",
    "\n",
    "# # Load the binary porous image\n",
    "# image = voxels[0][4]  # Replace with your binary image data\n",
    "\n",
    "# # Skeletonize the image\n",
    "# skeleton = morphology.skeletonize(image)\n",
    "\n",
    "# # Calculate the lineal-path function\n",
    "# lineal_path = np.sum(skeleton)/np.sum(image)\n",
    "\n",
    "# # Print the lineal-path value\n",
    "# print(lineal_path)"
   ]
  },
  {
   "cell_type": "code",
   "execution_count": 10,
   "id": "6a61a5c1",
   "metadata": {},
   "outputs": [],
   "source": [
    "# image = ...  # Replace with your binary image data\n",
    "\n",
    "# # Calculate the two-point correlation function\n",
    "# correlation = morphology.correlation_2d(image)\n",
    "\n",
    "# # Print the correlation matrix\n",
    "# print(correlation)"
   ]
  },
  {
   "cell_type": "code",
   "execution_count": 11,
   "id": "a9fac928",
   "metadata": {},
   "outputs": [],
   "source": [
    "# # Load the binary porous image\n",
    "# image = image_data[0]  # Replace with your binary image data\n",
    "\n",
    "# # Label the connected components\n",
    "# labels = measure.label(image, connectivity=1)\n",
    "\n",
    "# # Calculate the two-point cluster function\n",
    "# unique_labels, label_counts = np.unique(labels, return_counts=True)\n",
    "# cluster_function = np.sum(label_counts[label_counts > 1]) / np.sum(label_counts)\n",
    "\n",
    "# # Print the cluster function\n",
    "# print(cluster_function)"
   ]
  },
  {
   "cell_type": "code",
   "execution_count": 59,
   "id": "f180db00",
   "metadata": {},
   "outputs": [],
   "source": [
    "im = voxels[0][0]"
   ]
  },
  {
   "cell_type": "code",
   "execution_count": 60,
   "id": "e0c5731b",
   "metadata": {},
   "outputs": [],
   "source": [
    "# ps.metrics.two_point_correlation(im)"
   ]
  },
  {
   "cell_type": "code",
   "execution_count": 61,
   "id": "02345549",
   "metadata": {},
   "outputs": [],
   "source": [
    "\n",
    "# paths = ps.filters.distance_transform_lin(im, mode='forward', axis=0)\n",
    "# ps.imshow(paths);"
   ]
  },
  {
   "cell_type": "code",
   "execution_count": 62,
   "id": "3bec0c7f",
   "metadata": {},
   "outputs": [],
   "source": [
    "# lpf = ps.metrics.lineal_path_distribution(paths, bins=range(1, 200, 10))"
   ]
  },
  {
   "cell_type": "code",
   "execution_count": 63,
   "id": "cff65090",
   "metadata": {},
   "outputs": [],
   "source": [
    "# data = ps.metrics.lineal_path_distribution(voxels[0],log=True)\n",
    "# fig, ax = plt.subplots(1, 2, figsize=[10, 4])\n",
    "# ax[0].plot(data.LogL,data.pdf)\n",
    "# # ax[1].plot(data.L,data.cdf)\n",
    "# # ax[2].bar(data.L, data.cdf, data.bin_widths, edgecolor='k')\n",
    "# ax[0].set_title(\"Probability Density Function\")\n",
    "# # ax[1].set_title(\"Cumulative Density Function\")\n",
    "# # ax[2].set_title('Bar Plot');"
   ]
  },
  {
   "cell_type": "code",
   "execution_count": 64,
   "id": "d0620f51",
   "metadata": {},
   "outputs": [
    {
     "name": "stdout",
     "output_type": "stream",
     "text": [
      "0.8048858642578125\n"
     ]
    }
   ],
   "source": [
    "e = ps.metrics.porosity(im)\n",
    "print(e)"
   ]
  },
  {
   "cell_type": "code",
   "execution_count": 68,
   "id": "7aa3e03a",
   "metadata": {},
   "outputs": [
    {
     "data": {
      "text/plain": [
       "(256, 256, 1)"
      ]
     },
     "execution_count": 68,
     "metadata": {},
     "output_type": "execute_result"
    }
   ],
   "source": [
    "im.shape"
   ]
  },
  {
   "cell_type": "code",
   "execution_count": 74,
   "id": "6de3b7db",
   "metadata": {},
   "outputs": [
    {
     "data": {
      "text/plain": [
       "0.8048858642578125"
      ]
     },
     "execution_count": 74,
     "metadata": {},
     "output_type": "execute_result"
    }
   ],
   "source": [
    "threshold = 0.5  # Adjust the threshold as needed\n",
    "\n",
    "# Calculate the porosity using NumPy operations\n",
    "porosity = 1 - np.mean(im <= threshold)\n",
    "porosity"
   ]
  }
 ],
 "metadata": {
  "kernelspec": {
   "display_name": "Python 3 (ipykernel)",
   "language": "python",
   "name": "python3"
  },
  "language_info": {
   "codemirror_mode": {
    "name": "ipython",
    "version": 3
   },
   "file_extension": ".py",
   "mimetype": "text/x-python",
   "name": "python",
   "nbconvert_exporter": "python",
   "pygments_lexer": "ipython3",
   "version": "3.9.16"
  }
 },
 "nbformat": 4,
 "nbformat_minor": 5
}
