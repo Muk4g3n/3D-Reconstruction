{
 "cells": [
  {
   "cell_type": "code",
   "execution_count": null,
   "id": "4b1ec0fb",
   "metadata": {},
   "outputs": [],
   "source": []
  },
  {
   "cell_type": "code",
   "execution_count": 1,
   "id": "1e9e0100",
   "metadata": {},
   "outputs": [],
   "source": [
    "# import numpy as np\n",
    "import tensorflow as tf\n",
    "tf.compat.v1.disable_eager_execution()\n",
    "config = tf.compat.v1.ConfigProto()\n",
    "config.gpu_options.allow_growth = True\n",
    "sess = tf.compat.v1.Session(config=config)\n",
    "import os\n",
    "# import cv2\n",
    "\n",
    "import Utils"
   ]
  },
  {
   "cell_type": "code",
   "execution_count": 2,
   "id": "a63fb3eb",
   "metadata": {},
   "outputs": [
    {
     "data": {
      "text/plain": [
       "(1000, 1000, 1000)"
      ]
     },
     "execution_count": 2,
     "metadata": {},
     "output_type": "execute_result"
    }
   ],
   "source": [
    "image_data = Utils.read_data(\"Berea_2d25um_binary.raw\")\n",
    "image_data.shape\n"
   ]
  },
  {
   "cell_type": "code",
   "execution_count": 3,
   "id": "75be4bf8",
   "metadata": {},
   "outputs": [
    {
     "data": {
      "text/plain": [
       "(64, 250, 256, 256, 1)"
      ]
     },
     "execution_count": 3,
     "metadata": {},
     "output_type": "execute_result"
    }
   ],
   "source": [
    "voxels = Utils.extract_subvolumes(image_data)\n",
    "voxels.shape"
   ]
  },
  {
   "cell_type": "code",
   "execution_count": 4,
   "id": "9145d486",
   "metadata": {},
   "outputs": [],
   "source": [
    "import numpy as np\n",
    "from skimage import morphology, measure"
   ]
  },
  {
   "cell_type": "code",
   "execution_count": 10,
   "id": "1680338f",
   "metadata": {},
   "outputs": [
    {
     "name": "stdout",
     "output_type": "stream",
     "text": [
      "14.232801762772633\n"
     ]
    }
   ],
   "source": [
    "\n",
    "\n",
    "# Load the binary porous image\n",
    "image = voxels[0][4]  # Replace with your binary image data\n",
    "\n",
    "# Skeletonize the image\n",
    "skeleton = morphology.skeletonize(image)\n",
    "\n",
    "# Calculate the lineal-path function\n",
    "lineal_path = np.sum(skeleton)/np.sum(image)\n",
    "\n",
    "# Print the lineal-path value\n",
    "print(lineal_path)"
   ]
  },
  {
   "cell_type": "code",
   "execution_count": 11,
   "id": "6a61a5c1",
   "metadata": {},
   "outputs": [
    {
     "ename": "AttributeError",
     "evalue": "module 'skimage.morphology' has no attribute 'correlation_2d'",
     "output_type": "error",
     "traceback": [
      "\u001b[1;31m---------------------------------------------------------------------------\u001b[0m",
      "\u001b[1;31mAttributeError\u001b[0m                            Traceback (most recent call last)",
      "\u001b[1;32m~\\AppData\\Local\\Temp/ipykernel_8960/3753421012.py\u001b[0m in \u001b[0;36m<module>\u001b[1;34m\u001b[0m\n\u001b[0;32m      2\u001b[0m \u001b[1;33m\u001b[0m\u001b[0m\n\u001b[0;32m      3\u001b[0m \u001b[1;31m# Calculate the two-point correlation function\u001b[0m\u001b[1;33m\u001b[0m\u001b[1;33m\u001b[0m\u001b[0m\n\u001b[1;32m----> 4\u001b[1;33m \u001b[0mcorrelation\u001b[0m \u001b[1;33m=\u001b[0m \u001b[0mmorphology\u001b[0m\u001b[1;33m.\u001b[0m\u001b[0mcorrelation_2d\u001b[0m\u001b[1;33m(\u001b[0m\u001b[0mimage\u001b[0m\u001b[1;33m)\u001b[0m\u001b[1;33m\u001b[0m\u001b[1;33m\u001b[0m\u001b[0m\n\u001b[0m\u001b[0;32m      5\u001b[0m \u001b[1;33m\u001b[0m\u001b[0m\n\u001b[0;32m      6\u001b[0m \u001b[1;31m# Print the correlation matrix\u001b[0m\u001b[1;33m\u001b[0m\u001b[1;33m\u001b[0m\u001b[0m\n",
      "\u001b[1;31mAttributeError\u001b[0m: module 'skimage.morphology' has no attribute 'correlation_2d'"
     ]
    }
   ],
   "source": [
    "# image = ...  # Replace with your binary image data\n",
    "\n",
    "# # Calculate the two-point correlation function\n",
    "# correlation = morphology.correlation_2d(image)\n",
    "\n",
    "# # Print the correlation matrix\n",
    "# print(correlation)"
   ]
  },
  {
   "cell_type": "code",
   "execution_count": 13,
   "id": "a9fac928",
   "metadata": {},
   "outputs": [
    {
     "name": "stdout",
     "output_type": "stream",
     "text": [
      "0.999994\n"
     ]
    }
   ],
   "source": [
    "# Load the binary porous image\n",
    "image = image_data[0]  # Replace with your binary image data\n",
    "\n",
    "# Label the connected components\n",
    "labels = measure.label(image, connectivity=1)\n",
    "\n",
    "# Calculate the two-point cluster function\n",
    "unique_labels, label_counts = np.unique(labels, return_counts=True)\n",
    "cluster_function = np.sum(label_counts[label_counts > 1]) / np.sum(label_counts)\n",
    "\n",
    "# Print the cluster function\n",
    "print(cluster_function)"
   ]
  },
  {
   "cell_type": "code",
   "execution_count": 14,
   "id": "02345549",
   "metadata": {},
   "outputs": [
    {
     "ename": "ModuleNotFoundError",
     "evalue": "No module named 'porespy'",
     "output_type": "error",
     "traceback": [
      "\u001b[1;31m---------------------------------------------------------------------------\u001b[0m",
      "\u001b[1;31mModuleNotFoundError\u001b[0m                       Traceback (most recent call last)",
      "\u001b[1;32m~\\AppData\\Local\\Temp/ipykernel_8960/436551898.py\u001b[0m in \u001b[0;36m<module>\u001b[1;34m\u001b[0m\n\u001b[1;32m----> 1\u001b[1;33m \u001b[1;32mimport\u001b[0m \u001b[0mporespy\u001b[0m\u001b[1;33m\u001b[0m\u001b[1;33m\u001b[0m\u001b[0m\n\u001b[0m",
      "\u001b[1;31mModuleNotFoundError\u001b[0m: No module named 'porespy'"
     ]
    }
   ],
   "source": [
    "import porespy "
   ]
  },
  {
   "cell_type": "code",
   "execution_count": null,
   "id": "3bec0c7f",
   "metadata": {},
   "outputs": [],
   "source": []
  }
 ],
 "metadata": {
  "kernelspec": {
   "display_name": "Python 3 (ipykernel)",
   "language": "python",
   "name": "python3"
  },
  "language_info": {
   "codemirror_mode": {
    "name": "ipython",
    "version": 3
   },
   "file_extension": ".py",
   "mimetype": "text/x-python",
   "name": "python",
   "nbconvert_exporter": "python",
   "pygments_lexer": "ipython3",
   "version": "3.9.7"
  }
 },
 "nbformat": 4,
 "nbformat_minor": 5
}
