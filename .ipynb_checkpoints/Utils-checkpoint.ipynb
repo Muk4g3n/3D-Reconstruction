{
 "cells": [
  {
   "cell_type": "code",
   "execution_count": 2,
   "id": "aa4b0247",
   "metadata": {},
   "outputs": [],
   "source": [
    "import numpy as np\n",
    "# import pandas as pd\n",
    "# import matplotlib.pyplot as plt \n",
    "import tensorflow as tf\n",
    "import os\n",
    "import cv2\n",
    "import import_ipynb"
   ]
  },
  {
   "cell_type": "code",
   "execution_count": 3,
   "id": "a2dc4695",
   "metadata": {},
   "outputs": [],
   "source": [
    "from tensorflow.keras import layers,losses\n",
    "from tensorflow.keras.preprocessing.image import ImageDataGenerator\n",
    "from tensorflow.keras.models import Model"
   ]
  },
  {
   "cell_type": "code",
   "execution_count": 4,
   "id": "bc6226ff",
   "metadata": {},
   "outputs": [],
   "source": [
    "def read_data(file_path,array_shape=(1000, 1000,1000)):\n",
    "    raw_data = np.fromfile(file_path, dtype=np.uint8)\n",
    "    return raw_data.reshape(array_shape).astype(\"float32\")"
   ]
  },
  {
   "cell_type": "code",
   "execution_count": 5,
   "id": "c9513410",
   "metadata": {},
   "outputs": [],
   "source": [
    "def splitImg(img,numOfBlocks = 4):\n",
    "\n",
    "    # Get the size of the image\n",
    "    height, width = 1000,1000\n",
    "\n",
    "    # Define the size of each block\n",
    "    block_size = (width // numOfBlocks, height // numOfBlocks)\n",
    "    # Create a list to store the blocks\n",
    "    blocks = []\n",
    "\n",
    "    # Split the image into blocks\n",
    "    for i in range(numOfBlocks):\n",
    "        for j in range(numOfBlocks):\n",
    "            x1, y1 = j * block_size[0], i * block_size[1]\n",
    "            x2, y2 = x1 + block_size[0], y1 + block_size[1]\n",
    "            block = img[y1:y2, x1:x2]\n",
    "            blocks.append(block)\n",
    "    return blocks"
   ]
  },
  {
   "cell_type": "code",
   "execution_count": 6,
   "id": "fc1c064d",
   "metadata": {},
   "outputs": [],
   "source": [
    "def get_split_images(data):\n",
    "    images = []\n",
    "    \n",
    "    for image in data:\n",
    "        blocks = splitImg(image)\n",
    "        \n",
    "        for block in blocks:\n",
    "            images.append(block)\n",
    "       \n",
    "    return np.array(images,dtype=\"float32\").reshape((16000, 250, 250,1))"
   ]
  },
  {
   "cell_type": "code",
   "execution_count": 7,
   "id": "3645d0e3",
   "metadata": {},
   "outputs": [],
   "source": [
    "def add_padding(Range,data, pad_size = 3):\n",
    "    \n",
    "    final = []\n",
    "    for i in range(Range):\n",
    "        final.append(np.pad(data[i], ((pad_size, pad_size), (pad_size, pad_size), (0, 0)), mode='constant'))\n",
    "\n",
    "    return np.array(final)"
   ]
  },
  {
   "cell_type": "code",
   "execution_count": 8,
   "id": "bda36ccd",
   "metadata": {},
   "outputs": [],
   "source": [
    "\n",
    "def remove_padding(data, pad_size = 3):\n",
    "    unpadded_imgs = []\n",
    "    for i in range(data.shape[0]):\n",
    "        unpadded_img.append(data[i][pad_size:-pad_size, pad_size:-pad_size])\n",
    "    return np.array(unpadded_imgs)"
   ]
  },
  {
   "cell_type": "code",
   "execution_count": 9,
   "id": "bf093296",
   "metadata": {},
   "outputs": [],
   "source": [
    "def getFeatures(m,X):\n",
    "    x1 = m.conv_1(X)\n",
    "    x1d = m.batchNorm_1(x1)\n",
    "    x1 = m.maxPool_1(x1d)\n",
    "\n",
    "\n",
    "    x2 = m.conv_2(x1)\n",
    "    x2d = m.batchNorm_2(x2)\n",
    "    x2 = m.maxPool_2(x2d)\n",
    "\n",
    "\n",
    "    x3 = m.conv_3(x2)\n",
    "    x3d = m.batchNorm_3(x3)\n",
    "    x3 = m.maxPool_3(x3d)\n",
    "\n",
    "\n",
    "\n",
    "    x4 = m.conv_4(x3)\n",
    "    x4d = m.batchNorm_4(x4)\n",
    "    x4 = m.maxPool_4(x4d)\n",
    "\n",
    "\n",
    "    x5 = m.conv_5(x4)\n",
    "    x5d = m.batchNorm_5(x5)\n",
    "    x5 = m.maxPool_5(x5d)\n",
    "\n",
    "\n",
    "    flat = layers.Flatten()(x5)\n",
    "    latentDim = m.latentDense(flat)\n",
    "    encodedFeatures = m.batchNorm_6(latentDim)\n",
    "    return encodedFeatures.numpy()"
   ]
  },
  {
   "cell_type": "code",
   "execution_count": null,
   "id": "f4b31500",
   "metadata": {},
   "outputs": [],
   "source": []
  },
  {
   "cell_type": "code",
   "execution_count": null,
   "id": "381be6c1",
   "metadata": {},
   "outputs": [],
   "source": []
  },
  {
   "cell_type": "code",
   "execution_count": null,
   "id": "2aaf66e4",
   "metadata": {},
   "outputs": [],
   "source": []
  }
 ],
 "metadata": {
  "kernelspec": {
   "display_name": "Python 3 (ipykernel)",
   "language": "python",
   "name": "python3"
  },
  "language_info": {
   "codemirror_mode": {
    "name": "ipython",
    "version": 3
   },
   "file_extension": ".py",
   "mimetype": "text/x-python",
   "name": "python",
   "nbconvert_exporter": "python",
   "pygments_lexer": "ipython3",
   "version": "3.9.16"
  }
 },
 "nbformat": 4,
 "nbformat_minor": 5
}
